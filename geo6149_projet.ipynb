{
  "nbformat": 4,
  "nbformat_minor": 0,
  "metadata": {
    "colab": {
      "provenance": [],
      "collapsed_sections": [
        "c6EDSZBxJnid",
        "HHVcVGHIYq65",
        "0xpTmIA4LeYi",
        "c8o12lf-LmHs"
      ],
      "include_colab_link": true
    },
    "kernelspec": {
      "name": "python3",
      "display_name": "Python 3"
    },
    "language_info": {
      "name": "python"
    }
  },
  "cells": [
    {
      "cell_type": "markdown",
      "metadata": {
        "id": "view-in-github",
        "colab_type": "text"
      },
      "source": [
        "<a href=\"https://colab.research.google.com/github/BastienBoucherat/geo6149/blob/main/geo6149_projet.ipynb\" target=\"_parent\"><img src=\"https://colab.research.google.com/assets/colab-badge.svg\" alt=\"Open In Colab\"/></a>"
      ]
    },
    {
      "cell_type": "markdown",
      "source": [
        "# **Etude de la capacité théorique d'autonomie alimentaire du territoire**\n",
        "---\n",
        "\n",
        "GEO-6149: Géomatique\n",
        "\n",
        "*   Bastien Boucherat (20155314)\n",
        "*   Juliette Goulet ()\n"
      ],
      "metadata": {
        "id": "9HF8HDtfEtVo"
      }
    },
    {
      "cell_type": "markdown",
      "source": [
        "# **Configuration de l'étude**"
      ],
      "metadata": {
        "id": "6zFcx9dDvtqx"
      }
    },
    {
      "cell_type": "code",
      "source": [
        "# Coordinate system used throughout the study\n",
        "study_crs = 'EPSG:32188'"
      ],
      "metadata": {
        "id": "VttYn3fXubST"
      },
      "execution_count": 55,
      "outputs": []
    },
    {
      "cell_type": "markdown",
      "source": [
        "# **Configuration de l'environnement Google Colab**"
      ],
      "metadata": {
        "id": "c6EDSZBxJnid"
      }
    },
    {
      "cell_type": "markdown",
      "source": [
        "## Arborescence des dossiers\n",
        "Creation de quelques dossiers de travail sur Google Colab."
      ],
      "metadata": {
        "id": "HHVcVGHIYq65"
      }
    },
    {
      "cell_type": "code",
      "source": [
        "# Packages necessary to handle files in Google Colab.\n",
        "# https://docs.python.org/3/library/os.path.html\n",
        "import os\n",
        "import os.path\n",
        "\n",
        "# This folder is the projet root folder\n",
        "project_folder = \"/content\"\n",
        "\n",
        "# This folder contains temporary files\n",
        "tmp_folder = project_folder + \"/tmp\"\n",
        "\n",
        "# Create folder is not already there\n",
        "if not os.path.exists(tmp_folder):\n",
        "    os.mkdir(tmp_folder)\n",
        "\n",
        "# This folder will contain persistent data\n",
        "data_folder = project_folder + \"/data\"\n",
        "\n",
        "# Create folder is not already there\n",
        "if not os.path.exists(data_folder):\n",
        "    os.mkdir(data_folder)"
      ],
      "metadata": {
        "id": "iYE-j62_79_i"
      },
      "execution_count": 77,
      "outputs": []
    },
    {
      "cell_type": "markdown",
      "source": [
        "## Installation des paquets"
      ],
      "metadata": {
        "id": "0xpTmIA4LeYi"
      }
    },
    {
      "cell_type": "markdown",
      "source": [
        "Installation de **GeoPandas** pour le traitement des données géospatiales"
      ],
      "metadata": {
        "id": "9T2m3KuKKrmw"
      }
    },
    {
      "cell_type": "code",
      "source": [
        "# Install Geopandas\n",
        "%%capture\n",
        "!apt-get install -qq curl g++ make\n",
        "!curl -L http://download.osgeo.org/libspatialindex/spatialindex-src-1.8.5.tar.gz | tar xz\n",
        "import os\n",
        "os.chdir('spatialindex-src-1.8.5')\n",
        "!./configure\n",
        "!make\n",
        "!make install\n",
        "!pip install rtree\n",
        "!ldconfig\n",
        "!pip install geopandas"
      ],
      "metadata": {
        "id": "y1HqjGDcDQBy"
      },
      "execution_count": 3,
      "outputs": []
    },
    {
      "cell_type": "markdown",
      "source": [
        "Installation de **RasterIO** pour le traitement des données matricielles"
      ],
      "metadata": {
        "id": "FtREnGYxKv4Y"
      }
    },
    {
      "cell_type": "code",
      "source": [
        "# Install rasterIO\n",
        "%%capture\n",
        "!pip install rasterio"
      ],
      "metadata": {
        "id": "u0t0jNJaB2Qy"
      },
      "execution_count": 4,
      "outputs": []
    },
    {
      "cell_type": "markdown",
      "source": [
        "## Importation des paquets"
      ],
      "metadata": {
        "id": "c8o12lf-LmHs"
      }
    },
    {
      "cell_type": "code",
      "source": [
        "# Data processing\n",
        "import numpy as np\n",
        "import pandas as pd\n"
      ],
      "metadata": {
        "id": "en5b4myDT-gc"
      },
      "execution_count": 5,
      "outputs": []
    },
    {
      "cell_type": "code",
      "source": [
        "# Geodata processing\n",
        "\n",
        "# Geopandas\n",
        "import geopandas as gpd\n",
        "\n",
        "# https://rasterio.readthedocs.io/en/latest/intro.html\n",
        "import rasterio\n",
        "import rasterio.plot\n",
        "import rasterio.mask"
      ],
      "metadata": {
        "id": "f1eOrqo0C9bp"
      },
      "execution_count": 53,
      "outputs": []
    },
    {
      "cell_type": "code",
      "source": [
        "# Data format\n",
        "import json"
      ],
      "metadata": {
        "id": "7vUvgQHoMI6w"
      },
      "execution_count": 7,
      "outputs": []
    },
    {
      "cell_type": "code",
      "source": [
        "# Data visualisation\n",
        "import matplotlib.pyplot as plt\n",
        "#import contextily as cx # fond de cartes"
      ],
      "metadata": {
        "id": "hlRgquo4MIqb"
      },
      "execution_count": 8,
      "outputs": []
    },
    {
      "cell_type": "markdown",
      "source": [
        "# **Chargement des données distantes**\n",
        "\n",
        "*   Chargement de la configuration des sources de données\n",
        "*   Téléchargement des données distantes\n",
        "*   Extraction des archives compressées (au besoin)\n",
        "*   Sauvegarde des fichiers nécessaires\n",
        "*   Suppression des fichiers inutiles"
      ],
      "metadata": {
        "id": "ltFPj_8jXzlr"
      }
    },
    {
      "cell_type": "markdown",
      "source": [
        "## Chargement de la configuration des sources\n",
        "La configuration est contenue dans un fichier de description des sources de donnnées distantes"
      ],
      "metadata": {
        "id": "txYT1hntwuIk"
      }
    },
    {
      "cell_type": "code",
      "source": [
        "# Load remote data sources information\n",
        "data_sources_df = pd.read_csv(project_folder + '/data_sources.csv')\n",
        "\n",
        "# Download only from selected data sources\n",
        "data_sources_df = data_sources_df[data_sources_df['Use?']==True]"
      ],
      "metadata": {
        "id": "4zfnfsz8_XFj"
      },
      "execution_count": 79,
      "outputs": []
    },
    {
      "cell_type": "markdown",
      "source": [
        "## Copie des données distantes"
      ],
      "metadata": {
        "id": "JSdkGLADvRkJ"
      }
    },
    {
      "cell_type": "code",
      "source": [
        "%%capture\n",
        "\n",
        "# Remote files will be downloaded and extracted in this folder\n",
        "# Then, downloaded files will be used to generate pre-processed data files eventually stored locally in another folder\n",
        "%cd {tmp_folder}\n",
        "\n",
        "# For selected each source\n",
        "for idx, data_source in data_sources_df.iterrows():\n",
        "\n",
        "    # This will point to the useful file to save\n",
        "    useful_file = ''\n",
        "\n",
        "    # Get some information from the link\n",
        "    data_file = data_source['Link'].split('/')[-1]\n",
        "    data_file_name = data_file.split('.')[0]\n",
        "    data_file_type = data_file.split('.')[-1] # file extension\n",
        "    \n",
        "    # Download source from internet\n",
        "    if not os.path.exists(data_file):\n",
        "        source_url = data_source['Link']\n",
        "        # wget [URL] -P [Directory]\n",
        "        !wget $source_url\n",
        "    \n",
        "    # Extract (if applicable)\n",
        "    if data_file_type.lower() in ['zip']:\n",
        "\n",
        "        # Where?\n",
        "        extract_folder = data_file_name\n",
        " \n",
        "        # Extract\n",
        "        !unzip -u $data_file -d $extract_folder\n",
        "\n",
        "        # Save path to file\n",
        "        useful_file= useful_file + f\"{extract_folder}/{data_source['File Name']}\"\n",
        "    else:\n",
        "        # Save path to file\n",
        "        useful_file = data_file_name\n",
        "\n",
        "    # Save the useful files to a persistent folder\n",
        "\n",
        "    # Shapefile\n",
        "    if data_source['Format'] == 'shapefile':\n",
        "\n",
        "        # List of desired file types\n",
        "        file_types = ['shp','shx','dbf','prj']\n",
        "\n",
        "        # Target files\n",
        "        target_file = f\"{data_folder}/{data_source['Type']}_{data_source['Area']}\"\n",
        "\n",
        "        # Copy all necessary files\n",
        "        for file_type in file_types:\n",
        "            src_file = f'{useful_file}.{file_type}'\n",
        "            dest_file = f'{target_file}.{file_type}'\n",
        "            !cp $src_file $dest_file\n",
        "\n",
        "        # Save the data location\n",
        "        data_sources_df.at[data_source['index'],'Location'] = f'{target_file}.shp'\n",
        "    \n",
        "    # Geotiff\n",
        "    elif data_source['Format'] == 'geotiff':\n",
        "        \n",
        "        # List of desired file types\n",
        "        file_types = ['tif','tiff']\n",
        "\n",
        "        # Target files\n",
        "        target_file = f\"{data_folder}/{data_source['Type']}_{data_source['Area']}\"\n",
        "        print(f\"Target file: {target_file}\")\n",
        "\n",
        "        # Try for every potentiel type of file\n",
        "        for file_type in file_types:\n",
        "\n",
        "            src_file = f'{useful_file}.{file_type}'\n",
        "            print(f\"Target file: {src_file}\")\n",
        "            # Copy every file that is found\n",
        "            if os.path.exists(src_file):\n",
        "                dest_file = f'{target_file}.{file_type}'\n",
        "                dest_file_type = file_type\n",
        "                !cp $src_file $dest_file\n",
        "        \n",
        "        # Save the data location\n",
        "        data_sources_df.at[data_source['index'],'Location'] = f'{target_file}.{dest_file_type}'"
      ],
      "metadata": {
        "id": "wBjI7aodRCL5"
      },
      "execution_count": 17,
      "outputs": []
    },
    {
      "cell_type": "markdown",
      "source": [
        "## Nettoyage des fichiers temporaires\n"
      ],
      "metadata": {
        "id": "X5cqiH4XvbeF"
      }
    },
    {
      "cell_type": "code",
      "source": [
        "# Remove temporary files\n",
        "if True:\n",
        "    # Remove files from extraction folders\n",
        "    command = f'{tmp_folder}/*/*'\n",
        "    !rm $command\n",
        "    # Remove extraction folders themselves\n",
        "    command = f'{tmp_folder}/*'\n",
        "    !rmdir $command\n",
        "\n",
        "# Remove downloaded source files\n",
        "if False:\n",
        "    # Remove zip files\n",
        "    command = f'{tmp_folder}/*.zip'\n",
        "    !rm $command\n",
        "\n",
        "# Remove useless columns from data source description\n",
        "data_sources_df = data_sources_df.drop(['Link', 'Use?', 'File Name'], axis='columns')"
      ],
      "metadata": {
        "colab": {
          "base_uri": "https://localhost:8080/"
        },
        "id": "dTOTjLT--Z3o",
        "outputId": "f2965fec-78c7-4eb6-f61a-faf2c302ee48"
      },
      "execution_count": 14,
      "outputs": [
        {
          "output_type": "stream",
          "name": "stdout",
          "text": [
            "rmdir: failed to remove '/content/tmp/cb_2018_us_state_500k.zip': Not a directory\n",
            "rmdir: failed to remove '/content/tmp/GHSL_data_54009_shapefile.zip': Not a directory\n",
            "rmdir: failed to remove '/content/tmp/lpr_000b16a_e.zip': Not a directory\n",
            "rmdir: failed to remove '/content/tmp/ppp_2020_1km_Aggregated.tif': Not a directory\n"
          ]
        }
      ]
    },
    {
      "cell_type": "markdown",
      "source": [
        "# **Préparation des données génériques**"
      ],
      "metadata": {
        "id": "WsW5KfIhkkVI"
      }
    },
    {
      "cell_type": "markdown",
      "source": [
        "### Données administratives"
      ],
      "metadata": {
        "id": "TGoW4-e4daf-"
      }
    },
    {
      "cell_type": "markdown",
      "source": [
        "**Chargement des frontières administratives** (Etats-Unis)"
      ],
      "metadata": {
        "id": "u426Ny0GLZFH"
      }
    },
    {
      "cell_type": "code",
      "source": [
        "# Select US boundaries\n",
        "file_name = data_sources_df[(data_sources_df['Type'] == 'Boundaries') & (data_sources_df['Area'] == 'USA')]['Location'].item()\n",
        "\n",
        "# Load vector data\n",
        "us_boundaries_gdf = gpd.read_file(file_name)\n",
        "\n",
        "# Check projection system\n",
        "if us_boundaries_gdf.crs == 'None':\n",
        "    print(\"Error: CRS information is missing\")\n",
        "else:\n",
        "    us_boundaries_gdf = us_boundaries_gdf.to_crs(study_crs)\n",
        "\n",
        "# Cherry-pick and rename information\n",
        "us_boundaries_gdf['NATION_ID']=\"USA\"\n",
        "us_boundaries_gdf = us_boundaries_gdf.rename(columns={'STUSPS':'SUB_NATION_ID','NAME':'SUB_NATION_NAME'})\n",
        "us_boundaries_gdf = us_boundaries_gdf[['NATION_ID', 'SUB_NATION_ID', 'SUB_NATION_NAME', 'geometry']]"
      ],
      "metadata": {
        "id": "pGm-Gcj2uF52"
      },
      "execution_count": 56,
      "outputs": []
    },
    {
      "cell_type": "code",
      "source": [
        "# States that are outside North American continent: Samoa, Virgin Islands, Guam, Mariana Islands, Hawai, Puerto Rico\n",
        "outside_states = ['AS','VI','GU', 'MP', 'HI', 'PR']\n",
        "\n",
        "# Remove states outisde of North America\n",
        "us_boundaries_gdf = us_boundaries_gdf[~us_boundaries_gdf['SUB_NATION_ID'].isin(outside_states)]"
      ],
      "metadata": {
        "id": "i0qRN1nukwbc"
      },
      "execution_count": 69,
      "outputs": []
    },
    {
      "cell_type": "markdown",
      "source": [
        "**Chargement des frontières administratives** (Canada)"
      ],
      "metadata": {
        "id": "BFyo1LQuMNvJ"
      }
    },
    {
      "cell_type": "code",
      "source": [
        "# Select Canada boundaries\n",
        "file_name = data_sources_df[(data_sources_df['Type'] == 'Boundaries') & (data_sources_df['Area'] == 'Canada')]['Location'].item()\n",
        "\n",
        "# Load vector data\n",
        "can_boundaries_gdf = gpd.read_file(file_name)\n",
        "\n",
        "# Check projection system\n",
        "if can_boundaries_gdf.crs == 'None':\n",
        "    print(\"Error: CRS is missing\")\n",
        "else:\n",
        "    can_boundaries_gdf = can_boundaries_gdf.to_crs(study_crs)\n",
        "\n",
        "# Cherry-pick and rename information\n",
        "can_boundaries_gdf['NATION_ID']=\"CAN\"\n",
        "can_boundaries_gdf = can_boundaries_gdf.rename(columns={'PREABBR':'SUB_NATION_ID','PRENAME':'SUB_NATION_NAME'})\n",
        "can_boundaries_gdf = can_boundaries_gdf[['NATION_ID', 'SUB_NATION_ID', 'SUB_NATION_NAME', 'geometry']]"
      ],
      "metadata": {
        "id": "p-08udYxgNpj"
      },
      "execution_count": 63,
      "outputs": []
    },
    {
      "cell_type": "markdown",
      "source": [
        "**Sauvegarde des donnnées administratives** (Canada et Etat-Unis)"
      ],
      "metadata": {
        "id": "tcOzXawdOdYh"
      }
    },
    {
      "cell_type": "code",
      "source": [
        "# Merge data for Canada+USA\n",
        "boundaries_gdf = us_boundaries_gdf.append(can_boundaries_gdf)"
      ],
      "metadata": {
        "colab": {
          "base_uri": "https://localhost:8080/"
        },
        "id": "U6AylexqnDBk",
        "outputId": "9ac5129f-dd8b-42a5-cb59-fe24addc3a5c"
      },
      "execution_count": 70,
      "outputs": [
        {
          "output_type": "stream",
          "name": "stderr",
          "text": [
            "<ipython-input-70-0053e9cf2be7>:2: FutureWarning: The frame.append method is deprecated and will be removed from pandas in a future version. Use pandas.concat instead.\n",
            "  boundaries_gdf = us_boundaries_gdf.append(can_boundaries_gdf)\n"
          ]
        }
      ]
    },
    {
      "cell_type": "code",
      "source": [
        "# Geometries from Statistiques Canada are really precise, hence very heavy.\n",
        "# Let's make data lighter: this is done on all boundaries (US and Canada) so that precision is consistent across data\n",
        "minimum_distance_km = 10\n",
        "boundaries_gdf = boundaries_gdf.simplify(minimum_distance_km*1000, preserve_topology = 'True')"
      ],
      "metadata": {
        "id": "oy-PKSA8x-ZN"
      },
      "execution_count": 71,
      "outputs": []
    },
    {
      "cell_type": "code",
      "source": [
        "# Save as a file\n",
        "pd.DataFrame(boundaries_gdf).to_csv(data_folder + '/Boundaries.csv')"
      ],
      "metadata": {
        "id": "rmzh9_M7x8Fk"
      },
      "execution_count": 72,
      "outputs": []
    },
    {
      "cell_type": "markdown",
      "source": [
        "# **Définition de la zone d'étude**"
      ],
      "metadata": {
        "id": "ksakWKKXW0ZV"
      }
    },
    {
      "cell_type": "markdown",
      "source": [
        "## Centres urbains\n",
        "\n",
        "Définition des centres urbains à considérer dans notre analyse.\n",
        "\n"
      ],
      "metadata": {
        "id": "AWN8oI5eZlBi"
      }
    },
    {
      "cell_type": "code",
      "source": [
        "from shapely.geometry import Polygon, LineString, Point\n",
        "\n",
        "# Create a list of the urban centers to include in the study\n",
        "urban_centers_names = [\"Montreal\"]\n",
        "\n",
        "# TODO: use Google maps API to get coordinates from names\n",
        "# For now, manually provide coordinates\n",
        "urban_centers_coordinates = [[-73.623983, 45.512047]]\n",
        "\n",
        "# Create a geometry from the coordinates\n",
        "urban_centers_geometry = [Point(urban_centers_coordinates[0])]\n",
        "\n",
        "# Create a python dictionary associating urban centers with their respective geometry\n",
        "df = {'nom': urban_centers_names, 'geometry': urban_centers_geometry}\n",
        "\n",
        "# Save information as geodataframe\n",
        "urban_centers = gpd.GeoDataFrame(df, geometry='geometry')\n",
        "\n",
        "# Provide the coordinate system\n",
        "urban_centers.crs = 'EPSG:4326'"
      ],
      "metadata": {
        "id": "pVbl31pHW7H2"
      },
      "execution_count": null,
      "outputs": []
    },
    {
      "cell_type": "markdown",
      "source": [
        "## Zone d'étude"
      ],
      "metadata": {
        "id": "4M_MSeJkeZZ9"
      }
    },
    {
      "cell_type": "code",
      "source": [
        "file_name = \"study_area.geojson\"\n",
        "\n",
        "\n",
        "\n",
        "# Load the geometry\n",
        "zone_gdf = gpd.read_file(f'{project_folder}/{file_name}')\n",
        "\n",
        "# Convert to the desired CRS\\n\",\n",
        "zone_gdf = zone_gdf.to_crs(study_crs)\n",
        "\n"
      ],
      "metadata": {
        "id": "mkbeqRxFeZrj"
      },
      "execution_count": null,
      "outputs": []
    },
    {
      "cell_type": "markdown",
      "source": [
        "# **Préparation des données pour la zone d'étude**"
      ],
      "metadata": {
        "id": "n5ROV-eP2SZT"
      }
    },
    {
      "cell_type": "markdown",
      "source": [
        "## Population (données matricielles)"
      ],
      "metadata": {
        "id": "C_tnunHcMElY"
      }
    },
    {
      "cell_type": "code",
      "source": [
        "# Data file\n",
        "file_name = 'Population_World.tif'\n",
        "\n",
        "# Load Data file\n",
        "population_raster = rasterio.open(f'{data_folder}/{file_name}')\n",
        "\n",
        "# Show some info about the data\n",
        "print(population_raster.profile)\n",
        "print(population_raster.shape) # quelle est la taille de l'image ?\n",
        "print(population_raster.count) # quel est le nombre de couches ?\n",
        "print(population_raster.bounds) # quelle est l'enmprise de la couche dans son système de coordonnées ?\n",
        "print(population_raster.crs) #... d'ailleurs, quel est son système de projection ?\n",
        "print(population_raster.dtypes) # quel est le type des données des pixels de l'image ?\n",
        "print(population_raster.width, population_raster.height) # Largeur, hauteur"
      ],
      "metadata": {
        "id": "WiD6QPzOQQ_9",
        "colab": {
          "base_uri": "https://localhost:8080/",
          "height": 237
        },
        "outputId": "ff079c24-6f85-4363-93f6-73bf532ab549"
      },
      "execution_count": null,
      "outputs": [
        {
          "output_type": "error",
          "ename": "NameError",
          "evalue": "ignored",
          "traceback": [
            "\u001b[0;31m---------------------------------------------------------------------------\u001b[0m",
            "\u001b[0;31mNameError\u001b[0m                                 Traceback (most recent call last)",
            "\u001b[0;32m<ipython-input-1-29e9d3a20687>\u001b[0m in \u001b[0;36m<cell line: 5>\u001b[0;34m()\u001b[0m\n\u001b[1;32m      3\u001b[0m \u001b[0;34m\u001b[0m\u001b[0m\n\u001b[1;32m      4\u001b[0m \u001b[0;31m# Load Data file\u001b[0m\u001b[0;34m\u001b[0m\u001b[0;34m\u001b[0m\u001b[0m\n\u001b[0;32m----> 5\u001b[0;31m \u001b[0mpopulation_raster\u001b[0m \u001b[0;34m=\u001b[0m \u001b[0mrasterio\u001b[0m\u001b[0;34m.\u001b[0m\u001b[0mopen\u001b[0m\u001b[0;34m(\u001b[0m\u001b[0;34mf'{data_folder}/{file_name}'\u001b[0m\u001b[0;34m)\u001b[0m\u001b[0;34m\u001b[0m\u001b[0;34m\u001b[0m\u001b[0m\n\u001b[0m\u001b[1;32m      6\u001b[0m \u001b[0;34m\u001b[0m\u001b[0m\n\u001b[1;32m      7\u001b[0m \u001b[0;31m# Show some info about the data\u001b[0m\u001b[0;34m\u001b[0m\u001b[0;34m\u001b[0m\u001b[0m\n",
            "\u001b[0;31mNameError\u001b[0m: name 'rasterio' is not defined"
          ]
        }
      ]
    },
    {
      "cell_type": "code",
      "source": [
        "# rasterio.plot.show(population_raster)"
      ],
      "metadata": {
        "id": "5GzPYpgwhqw_"
      },
      "execution_count": null,
      "outputs": []
    },
    {
      "cell_type": "code",
      "source": [
        "#\n",
        "zone_gdf = gpd.read_file('/content/study_area.geojson')\n",
        "\n",
        "# Create a mask for RasterIO from the study zone\n",
        "zone_mask = [json.loads(zone_gdf.to_json())['features'][0]['geometry']]\n",
        "\n",
        "# clip raster\n",
        "zone_population_raster = rasterio.mask.mask(population_raster, zone_mask, crop=True)"
      ],
      "metadata": {
        "id": "FV8yoz0ZQQ0D",
        "colab": {
          "base_uri": "https://localhost:8080/",
          "height": 434
        },
        "outputId": "7040ff5b-ed71-4a40-f597-c53d1b3ad777"
      },
      "execution_count": null,
      "outputs": [
        {
          "output_type": "error",
          "ename": "ValueError",
          "evalue": "ignored",
          "traceback": [
            "\u001b[0;31m---------------------------------------------------------------------------\u001b[0m",
            "\u001b[0;31mWindowError\u001b[0m                               Traceback (most recent call last)",
            "\u001b[0;32m/usr/local/lib/python3.9/dist-packages/rasterio/mask.py\u001b[0m in \u001b[0;36mraster_geometry_mask\u001b[0;34m(dataset, shapes, all_touched, invert, crop, pad, pad_width)\u001b[0m\n\u001b[1;32m     79\u001b[0m     \u001b[0;32mtry\u001b[0m\u001b[0;34m:\u001b[0m\u001b[0;34m\u001b[0m\u001b[0;34m\u001b[0m\u001b[0m\n\u001b[0;32m---> 80\u001b[0;31m         \u001b[0mwindow\u001b[0m \u001b[0;34m=\u001b[0m \u001b[0mgeometry_window\u001b[0m\u001b[0;34m(\u001b[0m\u001b[0mdataset\u001b[0m\u001b[0;34m,\u001b[0m \u001b[0mshapes\u001b[0m\u001b[0;34m,\u001b[0m \u001b[0mpad_x\u001b[0m\u001b[0;34m=\u001b[0m\u001b[0mpad_x\u001b[0m\u001b[0;34m,\u001b[0m \u001b[0mpad_y\u001b[0m\u001b[0;34m=\u001b[0m\u001b[0mpad_y\u001b[0m\u001b[0;34m)\u001b[0m\u001b[0;34m\u001b[0m\u001b[0;34m\u001b[0m\u001b[0m\n\u001b[0m\u001b[1;32m     81\u001b[0m \u001b[0;34m\u001b[0m\u001b[0m\n",
            "\u001b[0;32m/usr/local/lib/python3.9/dist-packages/rasterio/features.py\u001b[0m in \u001b[0;36mgeometry_window\u001b[0;34m(dataset, shapes, pad_x, pad_y, north_up, rotated, pixel_precision, boundless)\u001b[0m\n\u001b[1;32m    472\u001b[0m     \u001b[0;32mif\u001b[0m \u001b[0;32mnot\u001b[0m \u001b[0mboundless\u001b[0m\u001b[0;34m:\u001b[0m\u001b[0;34m\u001b[0m\u001b[0;34m\u001b[0m\u001b[0m\n\u001b[0;32m--> 473\u001b[0;31m         \u001b[0mwindow\u001b[0m \u001b[0;34m=\u001b[0m \u001b[0mwindow\u001b[0m\u001b[0;34m.\u001b[0m\u001b[0mintersection\u001b[0m\u001b[0;34m(\u001b[0m\u001b[0mraster_window\u001b[0m\u001b[0;34m)\u001b[0m\u001b[0;34m\u001b[0m\u001b[0;34m\u001b[0m\u001b[0m\n\u001b[0m\u001b[1;32m    474\u001b[0m \u001b[0;34m\u001b[0m\u001b[0m\n",
            "\u001b[0;32m/usr/local/lib/python3.9/dist-packages/rasterio/windows.py\u001b[0m in \u001b[0;36mintersection\u001b[0;34m(self, other)\u001b[0m\n\u001b[1;32m    774\u001b[0m         \"\"\"\n\u001b[0;32m--> 775\u001b[0;31m         \u001b[0;32mreturn\u001b[0m \u001b[0mintersection\u001b[0m\u001b[0;34m(\u001b[0m\u001b[0;34m[\u001b[0m\u001b[0mself\u001b[0m\u001b[0;34m,\u001b[0m \u001b[0mother\u001b[0m\u001b[0;34m]\u001b[0m\u001b[0;34m)\u001b[0m\u001b[0;34m\u001b[0m\u001b[0;34m\u001b[0m\u001b[0m\n\u001b[0m",
            "\u001b[0;32m/usr/local/lib/python3.9/dist-packages/rasterio/windows.py\u001b[0m in \u001b[0;36mwrapper\u001b[0;34m(*args, **kwargs)\u001b[0m\n\u001b[1;32m    124\u001b[0m         \u001b[0;32mif\u001b[0m \u001b[0mlen\u001b[0m\u001b[0;34m(\u001b[0m\u001b[0margs\u001b[0m\u001b[0;34m)\u001b[0m \u001b[0;34m==\u001b[0m \u001b[0;36m1\u001b[0m \u001b[0;32mand\u001b[0m \u001b[0misinstance\u001b[0m\u001b[0;34m(\u001b[0m\u001b[0margs\u001b[0m\u001b[0;34m[\u001b[0m\u001b[0;36m0\u001b[0m\u001b[0;34m]\u001b[0m\u001b[0;34m,\u001b[0m \u001b[0mIterable\u001b[0m\u001b[0;34m)\u001b[0m\u001b[0;34m:\u001b[0m\u001b[0;34m\u001b[0m\u001b[0;34m\u001b[0m\u001b[0m\n\u001b[0;32m--> 125\u001b[0;31m             \u001b[0;32mreturn\u001b[0m \u001b[0mfunction\u001b[0m\u001b[0;34m(\u001b[0m\u001b[0;34m*\u001b[0m\u001b[0margs\u001b[0m\u001b[0;34m[\u001b[0m\u001b[0;36m0\u001b[0m\u001b[0;34m]\u001b[0m\u001b[0;34m)\u001b[0m\u001b[0;34m\u001b[0m\u001b[0;34m\u001b[0m\u001b[0m\n\u001b[0m\u001b[1;32m    126\u001b[0m         \u001b[0;32melse\u001b[0m\u001b[0;34m:\u001b[0m\u001b[0;34m\u001b[0m\u001b[0;34m\u001b[0m\u001b[0m\n",
            "\u001b[0;32m/usr/local/lib/python3.9/dist-packages/rasterio/windows.py\u001b[0m in \u001b[0;36mintersection\u001b[0;34m(*windows)\u001b[0m\n\u001b[1;32m    238\u001b[0m     \"\"\"\n\u001b[0;32m--> 239\u001b[0;31m     \u001b[0;32mreturn\u001b[0m \u001b[0mfunctools\u001b[0m\u001b[0;34m.\u001b[0m\u001b[0mreduce\u001b[0m\u001b[0;34m(\u001b[0m\u001b[0m_intersection\u001b[0m\u001b[0;34m,\u001b[0m \u001b[0mwindows\u001b[0m\u001b[0;34m)\u001b[0m\u001b[0;34m\u001b[0m\u001b[0;34m\u001b[0m\u001b[0m\n\u001b[0m\u001b[1;32m    240\u001b[0m \u001b[0;34m\u001b[0m\u001b[0m\n",
            "\u001b[0;32m/usr/local/lib/python3.9/dist-packages/rasterio/windows.py\u001b[0m in \u001b[0;36m_intersection\u001b[0;34m(w1, w2)\u001b[0m\n\u001b[1;32m    256\u001b[0m     \u001b[0;32melse\u001b[0m\u001b[0;34m:\u001b[0m\u001b[0;34m\u001b[0m\u001b[0;34m\u001b[0m\u001b[0m\n\u001b[0;32m--> 257\u001b[0;31m         \u001b[0;32mraise\u001b[0m \u001b[0mWindowError\u001b[0m\u001b[0;34m(\u001b[0m\u001b[0;34mf\"Intersection is empty {w1} {w2}\"\u001b[0m\u001b[0;34m)\u001b[0m\u001b[0;34m\u001b[0m\u001b[0;34m\u001b[0m\u001b[0m\n\u001b[0m\u001b[1;32m    258\u001b[0m \u001b[0;34m\u001b[0m\u001b[0m\n",
            "\u001b[0;31mWindowError\u001b[0m: Intersection is empty Window(col_off=17530748, row_off=-622807923, width=36168849, height=36046168) Window(col_off=0, row_off=0, width=43200, height=18720)",
            "\nDuring handling of the above exception, another exception occurred:\n",
            "\u001b[0;31mValueError\u001b[0m                                Traceback (most recent call last)",
            "\u001b[0;32m<ipython-input-38-e4eec4986fb2>\u001b[0m in \u001b[0;36m<cell line: 5>\u001b[0;34m()\u001b[0m\n\u001b[1;32m      3\u001b[0m \u001b[0;34m\u001b[0m\u001b[0m\n\u001b[1;32m      4\u001b[0m \u001b[0;31m# clip raster\u001b[0m\u001b[0;34m\u001b[0m\u001b[0;34m\u001b[0m\u001b[0m\n\u001b[0;32m----> 5\u001b[0;31m \u001b[0mzone_population_raster\u001b[0m \u001b[0;34m=\u001b[0m \u001b[0mrasterio\u001b[0m\u001b[0;34m.\u001b[0m\u001b[0mmask\u001b[0m\u001b[0;34m.\u001b[0m\u001b[0mmask\u001b[0m\u001b[0;34m(\u001b[0m\u001b[0mpopulation_raster\u001b[0m\u001b[0;34m,\u001b[0m \u001b[0mzone_mask\u001b[0m\u001b[0;34m,\u001b[0m \u001b[0mcrop\u001b[0m\u001b[0;34m=\u001b[0m\u001b[0;32mTrue\u001b[0m\u001b[0;34m)\u001b[0m\u001b[0;34m\u001b[0m\u001b[0;34m\u001b[0m\u001b[0m\n\u001b[0m",
            "\u001b[0;32m/usr/local/lib/python3.9/dist-packages/rasterio/mask.py\u001b[0m in \u001b[0;36mmask\u001b[0;34m(dataset, shapes, all_touched, invert, nodata, filled, crop, pad, pad_width, indexes)\u001b[0m\n\u001b[1;32m    176\u001b[0m             \u001b[0mnodata\u001b[0m \u001b[0;34m=\u001b[0m \u001b[0;36m0\u001b[0m\u001b[0;34m\u001b[0m\u001b[0;34m\u001b[0m\u001b[0m\n\u001b[1;32m    177\u001b[0m \u001b[0;34m\u001b[0m\u001b[0m\n\u001b[0;32m--> 178\u001b[0;31m     shape_mask, transform, window = raster_geometry_mask(\n\u001b[0m\u001b[1;32m    179\u001b[0m         \u001b[0mdataset\u001b[0m\u001b[0;34m,\u001b[0m \u001b[0mshapes\u001b[0m\u001b[0;34m,\u001b[0m \u001b[0mall_touched\u001b[0m\u001b[0;34m=\u001b[0m\u001b[0mall_touched\u001b[0m\u001b[0;34m,\u001b[0m \u001b[0minvert\u001b[0m\u001b[0;34m=\u001b[0m\u001b[0minvert\u001b[0m\u001b[0;34m,\u001b[0m \u001b[0mcrop\u001b[0m\u001b[0;34m=\u001b[0m\u001b[0mcrop\u001b[0m\u001b[0;34m,\u001b[0m\u001b[0;34m\u001b[0m\u001b[0;34m\u001b[0m\u001b[0m\n\u001b[1;32m    180\u001b[0m         pad=pad, pad_width=pad_width)\n",
            "\u001b[0;32m/usr/local/lib/python3.9/dist-packages/rasterio/mask.py\u001b[0m in \u001b[0;36mraster_geometry_mask\u001b[0;34m(dataset, shapes, all_touched, invert, crop, pad, pad_width)\u001b[0m\n\u001b[1;32m     84\u001b[0m         \u001b[0;31m# depending on value of crop\u001b[0m\u001b[0;34m\u001b[0m\u001b[0;34m\u001b[0m\u001b[0m\n\u001b[1;32m     85\u001b[0m         \u001b[0;32mif\u001b[0m \u001b[0mcrop\u001b[0m\u001b[0;34m:\u001b[0m\u001b[0;34m\u001b[0m\u001b[0;34m\u001b[0m\u001b[0m\n\u001b[0;32m---> 86\u001b[0;31m             \u001b[0;32mraise\u001b[0m \u001b[0mValueError\u001b[0m\u001b[0;34m(\u001b[0m\u001b[0;34m'Input shapes do not overlap raster.'\u001b[0m\u001b[0;34m)\u001b[0m\u001b[0;34m\u001b[0m\u001b[0;34m\u001b[0m\u001b[0m\n\u001b[0m\u001b[1;32m     87\u001b[0m         \u001b[0;32melse\u001b[0m\u001b[0;34m:\u001b[0m\u001b[0;34m\u001b[0m\u001b[0;34m\u001b[0m\u001b[0m\n\u001b[1;32m     88\u001b[0m             warnings.warn('shapes are outside bounds of raster. '\n",
            "\u001b[0;31mValueError\u001b[0m: Input shapes do not overlap raster."
          ]
        }
      ]
    },
    {
      "cell_type": "code",
      "source": [
        "# Show the data\n",
        "plt.imshow(zone_population_raster[0][0], cmap='Greys')"
      ],
      "metadata": {
        "colab": {
          "base_uri": "https://localhost:8080/",
          "height": 185
        },
        "id": "kUcVA8P4YE9g",
        "outputId": "94de9a9b-9e33-4367-e968-2a4b6f59ac6b"
      },
      "execution_count": null,
      "outputs": [
        {
          "output_type": "error",
          "ename": "NameError",
          "evalue": "ignored",
          "traceback": [
            "\u001b[0;31m---------------------------------------------------------------------------\u001b[0m",
            "\u001b[0;31mNameError\u001b[0m                                 Traceback (most recent call last)",
            "\u001b[0;32m<ipython-input-39-3ec3499e8ec1>\u001b[0m in \u001b[0;36m<cell line: 2>\u001b[0;34m()\u001b[0m\n\u001b[1;32m      1\u001b[0m \u001b[0;31m# Show the data\u001b[0m\u001b[0;34m\u001b[0m\u001b[0;34m\u001b[0m\u001b[0m\n\u001b[0;32m----> 2\u001b[0;31m \u001b[0mplt\u001b[0m\u001b[0;34m.\u001b[0m\u001b[0mimshow\u001b[0m\u001b[0;34m(\u001b[0m\u001b[0mzone_population_raster\u001b[0m\u001b[0;34m[\u001b[0m\u001b[0;36m0\u001b[0m\u001b[0;34m]\u001b[0m\u001b[0;34m[\u001b[0m\u001b[0;36m0\u001b[0m\u001b[0;34m]\u001b[0m\u001b[0;34m,\u001b[0m \u001b[0mcmap\u001b[0m\u001b[0;34m=\u001b[0m\u001b[0;34m'Greys'\u001b[0m\u001b[0;34m)\u001b[0m\u001b[0;34m\u001b[0m\u001b[0;34m\u001b[0m\u001b[0m\n\u001b[0m",
            "\u001b[0;31mNameError\u001b[0m: name 'zone_population_raster' is not defined"
          ]
        }
      ]
    },
    {
      "cell_type": "code",
      "source": [
        "# Extract numPY array from raster\n",
        "img_np = population_raster.read()\n",
        "\n",
        "# Print some information about the array\n",
        "print(\"Dimension de l'array :\", img_np.shape)\n",
        "print(\"La première bande :\", img_np[0]) # pour accéder à la première bande\n",
        "print(\"Les valeurs min et max des pixel de la bande :\", img_np[0].min(), img_np.max()) # les valeurs minimale et maximale de la bande\n",
        "print(\"La valeur du pixel central de la bande :\", img_np[0, int(img_np[0].shape[0]/2), int(img_np[0].shape[1]/2)]) # pour accéder à tel ou tel pixel de la bande\n",
        "print(\"La moyenne des pixels d'une bande :\", np.mean(img_np[0][img_np[0] != 255])) # pour calculer des statistiques classiques sur la première bande\n",
        "plt.imshow(img_np[0], cmap='Greys') # pour afficher une bande \n",
        "\n",
        "#plt.hist(np.histogram(img_np, bins=10, range=None, density=None, weights=None), bins='auto')"
      ],
      "metadata": {
        "id": "7w4qycKdcYdb"
      },
      "execution_count": null,
      "outputs": []
    },
    {
      "cell_type": "code",
      "source": [
        "x=len(zone_population_raster[0][0][0])\n",
        "y=len(zone_population_raster[0][0])\n",
        "print(f'x={x} y={y}')\n",
        "print(len(zone_population_raster[0][0][0]))\n",
        "print(\"Densite de population au km2 (centre de la carte):\", zone_population_raster[0][0][int(y/2)][int(x/2)])"
      ],
      "metadata": {
        "colab": {
          "base_uri": "https://localhost:8080/"
        },
        "id": "WDbBWxYDemPT",
        "outputId": "e687a7be-2f80-4037-ccfd-f6aaeb069914"
      },
      "execution_count": null,
      "outputs": [
        {
          "output_type": "stream",
          "name": "stdout",
          "text": [
            "x=463 y=326\n",
            "463\n",
            "Densite de population au km2 (centre de la carte): 1475.3801\n"
          ]
        }
      ]
    },
    {
      "cell_type": "code",
      "source": [],
      "metadata": {
        "id": "6-4Hh359dV0k"
      },
      "execution_count": null,
      "outputs": []
    }
  ]
}