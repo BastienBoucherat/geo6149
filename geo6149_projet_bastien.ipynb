{
  "nbformat": 4,
  "nbformat_minor": 0,
  "metadata": {
    "colab": {
      "provenance": [],
      "collapsed_sections": [
        "HHVcVGHIYq65",
        "0xpTmIA4LeYi",
        "c8o12lf-LmHs"
      ],
      "include_colab_link": true
    },
    "kernelspec": {
      "name": "python3",
      "display_name": "Python 3"
    },
    "language_info": {
      "name": "python"
    }
  },
  "cells": [
    {
      "cell_type": "markdown",
      "metadata": {
        "id": "view-in-github",
        "colab_type": "text"
      },
      "source": [
        "<a href=\"https://colab.research.google.com/github/BastienBoucherat/geo6149/blob/main/geo6149_projet_bastien.ipynb\" target=\"_parent\"><img src=\"https://colab.research.google.com/assets/colab-badge.svg\" alt=\"Open In Colab\"/></a>"
      ]
    },
    {
      "cell_type": "markdown",
      "source": [
        "# **Projet: Autonomie alimentaire et territoire**\n",
        "GEO-6149: Géomatique\n",
        "\n",
        "*   Bastien Boucherat (20155314)\n",
        "*   Juliette Goulet ()\n"
      ],
      "metadata": {
        "id": "9HF8HDtfEtVo"
      }
    },
    {
      "cell_type": "markdown",
      "source": [
        "# **Configuration de l'environnement de travail**"
      ],
      "metadata": {
        "id": "c6EDSZBxJnid"
      }
    },
    {
      "cell_type": "markdown",
      "source": [
        "## Arborescence des dossiers\n",
        "Creation de quelques dossiers de travail sur Google Colab."
      ],
      "metadata": {
        "id": "HHVcVGHIYq65"
      }
    },
    {
      "cell_type": "code",
      "source": [
        "# Packages necessary to handle files in Google Colab.\n",
        "# https://docs.python.org/3/library/os.path.html\n",
        "import os\n",
        "import os.path\n",
        "\n",
        "# This folder is a temporary sandbox\n",
        "tmp_folder = \"/content/tmp\"\n",
        "\n",
        "# If folder does not already exist\n",
        "if not os.path.exists(tmp_folder):\n",
        "    # Create it\n",
        "    os.mkdir(tmp_folder)\n",
        "\n",
        "# This folder will contain the pre-processed data\n",
        "# The data is pre-processed to match the study area\n",
        "data_folder = \"/content/data\"\n",
        "\n",
        "# If folder does not already exist\n",
        "if not os.path.exists(data_folder):\n",
        "    # Create it\n",
        "    os.mkdir(data_folder)\n"
      ],
      "metadata": {
        "id": "iYE-j62_79_i"
      },
      "execution_count": 4,
      "outputs": []
    },
    {
      "cell_type": "markdown",
      "source": [
        "## Installation des paquets"
      ],
      "metadata": {
        "id": "0xpTmIA4LeYi"
      }
    },
    {
      "cell_type": "markdown",
      "source": [
        "Installation de **GeoPandas** pour le traitement des données géospatiales"
      ],
      "metadata": {
        "id": "9T2m3KuKKrmw"
      }
    },
    {
      "cell_type": "code",
      "source": [
        "# Install Geopandas\n",
        "%%capture\n",
        "!apt-get install -qq curl g++ make\n",
        "!curl -L http://download.osgeo.org/libspatialindex/spatialindex-src-1.8.5.tar.gz | tar xz\n",
        "import os\n",
        "os.chdir('spatialindex-src-1.8.5')\n",
        "!./configure\n",
        "!make\n",
        "!make install\n",
        "!pip install rtree\n",
        "!ldconfig\n",
        "!pip install geopandas"
      ],
      "metadata": {
        "id": "y1HqjGDcDQBy"
      },
      "execution_count": 5,
      "outputs": []
    },
    {
      "cell_type": "markdown",
      "source": [
        "Installation de **RasterIO** pour le traitement des données matricielles"
      ],
      "metadata": {
        "id": "FtREnGYxKv4Y"
      }
    },
    {
      "cell_type": "code",
      "source": [
        "# Install rasterIO\n",
        "%%capture\n",
        "!pip install rasterio"
      ],
      "metadata": {
        "id": "u0t0jNJaB2Qy"
      },
      "execution_count": 6,
      "outputs": []
    },
    {
      "cell_type": "markdown",
      "source": [
        "## Importation des paquets"
      ],
      "metadata": {
        "id": "c8o12lf-LmHs"
      }
    },
    {
      "cell_type": "code",
      "source": [
        "# Data processing\n",
        "import numpy as np\n",
        "import pandas as pd\n",
        "import geopandas as gpd"
      ],
      "metadata": {
        "id": "en5b4myDT-gc"
      },
      "execution_count": 7,
      "outputs": []
    },
    {
      "cell_type": "code",
      "source": [
        "# Data processing: raster data\n",
        "# https://rasterio.readthedocs.io/en/latest/intro.html\n",
        "import rasterio\n",
        "import rasterio.plot\n",
        "import rasterio.mask"
      ],
      "metadata": {
        "id": "f1eOrqo0C9bp"
      },
      "execution_count": 8,
      "outputs": []
    },
    {
      "cell_type": "code",
      "source": [
        "# Data format\n",
        "import json"
      ],
      "metadata": {
        "id": "7vUvgQHoMI6w"
      },
      "execution_count": 9,
      "outputs": []
    },
    {
      "cell_type": "code",
      "source": [
        "# Data visualisation\n",
        "import matplotlib.pyplot as plt\n",
        "#import contextily as cx # fond de cartes"
      ],
      "metadata": {
        "id": "hlRgquo4MIqb"
      },
      "execution_count": 10,
      "outputs": []
    },
    {
      "cell_type": "markdown",
      "source": [
        "# **Chargement des données**"
      ],
      "metadata": {
        "id": "ltFPj_8jXzlr"
      }
    },
    {
      "cell_type": "markdown",
      "source": [
        "## Récuperation des données distantes"
      ],
      "metadata": {
        "id": "u8J12iSzYaSS"
      }
    },
    {
      "cell_type": "code",
      "source": [
        "# Load remote data sources information\n",
        "data_sources_df = pd.read_csv('/content/data_sources.csv')\n",
        "\n",
        "# Download only from selected data sources\n",
        "data_sources_df = data_sources_df[data_sources_df['Use?']==True]"
      ],
      "metadata": {
        "id": "4zfnfsz8_XFj"
      },
      "execution_count": 301,
      "outputs": []
    },
    {
      "cell_type": "code",
      "source": [
        "%%capture\n",
        "\n",
        "# Remote files will be downloaded and extracted in this folder\n",
        "# Then, downloaded files will be used to generate pre-processed data files eventually stored locally in another folder\n",
        "%cd {tmp_folder}\n",
        "\n",
        "# For selected each source\n",
        "for idx, data_source in data_sources_df.iterrows():\n",
        "\n",
        "    # This will point to the useful file to save\n",
        "    useful_file = ''\n",
        "\n",
        "    # Get some information from the link\n",
        "    data_file = data_source['Link'].split('/')[-1]\n",
        "    data_file_name = data_file.split('.')[0]\n",
        "    data_file_type = data_file.split('.')[-1] # file extension\n",
        "    \n",
        "    # Download source from internet\n",
        "    if not os.path.exists(data_file):\n",
        "        source_url = data_source['Link']\n",
        "        # wget [URL] -P [Directory]\n",
        "        !wget $source_url\n",
        "    \n",
        "    # Extract (if applicable)\n",
        "    if data_file_type.lower() in ['zip']:\n",
        "\n",
        "        # Where?\n",
        "        extract_folder = data_file_name\n",
        "\n",
        "        # Extract\n",
        "        !unzip -u $data_file -d $extract_folder\n",
        "\n",
        "        # Add extract folder to the path\n",
        "        useful_file= useful_file + f\"{extract_folder}/\"\n",
        "    \n",
        "    # Add file pattern to the path\n",
        "    useful_file = useful_file + f\"{data_source['File Name']}\"\n",
        "\n",
        "    # Save the useful files to a persistent folder\n",
        "    if data_source['Format'] == 'shapefile':\n",
        "\n",
        "        # List of shapefiles necessary extensions\n",
        "        file_types = ['shp','shx','dbf']\n",
        "\n",
        "        # Target files\n",
        "        target_file = f\"{data_folder}/{data_source['Type']}_{data_source['Area']}\"\n",
        "\n",
        "        # Copy all necessary files\n",
        "        for file_type in file_types:\n",
        "            src_file = f'{useful_file}.{file_type}'\n",
        "            dest_file = f'{target_file}.{file_type}'\n",
        "            print(src_file, dest_file)\n",
        "            !cp $src_file $dest_file\n",
        "\n",
        "        # Save the data location\n",
        "        data_sources_df.at[data_source['index'],'Location'] = f'{target_file}.shp'\n",
        "    \n",
        " # Remove useless files\n",
        "if True:\n",
        "    # Remove extraction folders: files\n",
        "    command = f'{tmp_folder}/*/*'\n",
        "    !rm $command\n",
        "    # Remove extraction folders themselves\n",
        "    command = f'{tmp_folder}/*'\n",
        "    !rmdir $command\n",
        "\n",
        "# Remove downloaded source files\n",
        "if False:\n",
        "    # Remove zip files\n",
        "    command = f'{tmp_folder}/*.zip'\n",
        "    !rm $command\n",
        "\n",
        "# Remove useless columns from data source description\n",
        "data_sources_df = data_sources_df.drop(['Link', 'Use?', 'File Name'], axis='columns')"
      ],
      "metadata": {
        "id": "wBjI7aodRCL5"
      },
      "execution_count": 302,
      "outputs": []
    },
    {
      "cell_type": "markdown",
      "source": [
        "## Préparation des données génériques"
      ],
      "metadata": {
        "id": "WsW5KfIhkkVI"
      }
    },
    {
      "cell_type": "code",
      "source": [
        "boundaries_df"
      ],
      "metadata": {
        "colab": {
          "base_uri": "https://localhost:8080/",
          "height": 112
        },
        "id": "uWUfD_XmHN-C",
        "outputId": "40f8558d-c5d8-42c8-b53d-2ec62efce9ba"
      },
      "execution_count": 317,
      "outputs": [
        {
          "output_type": "execute_result",
          "data": {
            "text/plain": [
              "   index                      Title               Source    Year    Area  \\\n",
              "2      2           US State borders        US Government  2018.0     USA   \n",
              "6      6  Canadian Province borders  Statistiques Canada  2016.0  Canada   \n",
              "\n",
              "         Type     Format                             Location  \n",
              "2  Boundaries  shapefile     /content/data/Boundaries_USA.shp  \n",
              "6  Boundaries  shapefile  /content/data/Boundaries_Canada.shp  "
            ],
            "text/html": [
              "\n",
              "  <div id=\"df-555f49fc-4edc-4601-a555-344c59cb857e\">\n",
              "    <div class=\"colab-df-container\">\n",
              "      <div>\n",
              "<style scoped>\n",
              "    .dataframe tbody tr th:only-of-type {\n",
              "        vertical-align: middle;\n",
              "    }\n",
              "\n",
              "    .dataframe tbody tr th {\n",
              "        vertical-align: top;\n",
              "    }\n",
              "\n",
              "    .dataframe thead th {\n",
              "        text-align: right;\n",
              "    }\n",
              "</style>\n",
              "<table border=\"1\" class=\"dataframe\">\n",
              "  <thead>\n",
              "    <tr style=\"text-align: right;\">\n",
              "      <th></th>\n",
              "      <th>index</th>\n",
              "      <th>Title</th>\n",
              "      <th>Source</th>\n",
              "      <th>Year</th>\n",
              "      <th>Area</th>\n",
              "      <th>Type</th>\n",
              "      <th>Format</th>\n",
              "      <th>Location</th>\n",
              "    </tr>\n",
              "  </thead>\n",
              "  <tbody>\n",
              "    <tr>\n",
              "      <th>2</th>\n",
              "      <td>2</td>\n",
              "      <td>US State borders</td>\n",
              "      <td>US Government</td>\n",
              "      <td>2018.0</td>\n",
              "      <td>USA</td>\n",
              "      <td>Boundaries</td>\n",
              "      <td>shapefile</td>\n",
              "      <td>/content/data/Boundaries_USA.shp</td>\n",
              "    </tr>\n",
              "    <tr>\n",
              "      <th>6</th>\n",
              "      <td>6</td>\n",
              "      <td>Canadian Province borders</td>\n",
              "      <td>Statistiques Canada</td>\n",
              "      <td>2016.0</td>\n",
              "      <td>Canada</td>\n",
              "      <td>Boundaries</td>\n",
              "      <td>shapefile</td>\n",
              "      <td>/content/data/Boundaries_Canada.shp</td>\n",
              "    </tr>\n",
              "  </tbody>\n",
              "</table>\n",
              "</div>\n",
              "      <button class=\"colab-df-convert\" onclick=\"convertToInteractive('df-555f49fc-4edc-4601-a555-344c59cb857e')\"\n",
              "              title=\"Convert this dataframe to an interactive table.\"\n",
              "              style=\"display:none;\">\n",
              "        \n",
              "  <svg xmlns=\"http://www.w3.org/2000/svg\" height=\"24px\"viewBox=\"0 0 24 24\"\n",
              "       width=\"24px\">\n",
              "    <path d=\"M0 0h24v24H0V0z\" fill=\"none\"/>\n",
              "    <path d=\"M18.56 5.44l.94 2.06.94-2.06 2.06-.94-2.06-.94-.94-2.06-.94 2.06-2.06.94zm-11 1L8.5 8.5l.94-2.06 2.06-.94-2.06-.94L8.5 2.5l-.94 2.06-2.06.94zm10 10l.94 2.06.94-2.06 2.06-.94-2.06-.94-.94-2.06-.94 2.06-2.06.94z\"/><path d=\"M17.41 7.96l-1.37-1.37c-.4-.4-.92-.59-1.43-.59-.52 0-1.04.2-1.43.59L10.3 9.45l-7.72 7.72c-.78.78-.78 2.05 0 2.83L4 21.41c.39.39.9.59 1.41.59.51 0 1.02-.2 1.41-.59l7.78-7.78 2.81-2.81c.8-.78.8-2.07 0-2.86zM5.41 20L4 18.59l7.72-7.72 1.47 1.35L5.41 20z\"/>\n",
              "  </svg>\n",
              "      </button>\n",
              "      \n",
              "  <style>\n",
              "    .colab-df-container {\n",
              "      display:flex;\n",
              "      flex-wrap:wrap;\n",
              "      gap: 12px;\n",
              "    }\n",
              "\n",
              "    .colab-df-convert {\n",
              "      background-color: #E8F0FE;\n",
              "      border: none;\n",
              "      border-radius: 50%;\n",
              "      cursor: pointer;\n",
              "      display: none;\n",
              "      fill: #1967D2;\n",
              "      height: 32px;\n",
              "      padding: 0 0 0 0;\n",
              "      width: 32px;\n",
              "    }\n",
              "\n",
              "    .colab-df-convert:hover {\n",
              "      background-color: #E2EBFA;\n",
              "      box-shadow: 0px 1px 2px rgba(60, 64, 67, 0.3), 0px 1px 3px 1px rgba(60, 64, 67, 0.15);\n",
              "      fill: #174EA6;\n",
              "    }\n",
              "\n",
              "    [theme=dark] .colab-df-convert {\n",
              "      background-color: #3B4455;\n",
              "      fill: #D2E3FC;\n",
              "    }\n",
              "\n",
              "    [theme=dark] .colab-df-convert:hover {\n",
              "      background-color: #434B5C;\n",
              "      box-shadow: 0px 1px 3px 1px rgba(0, 0, 0, 0.15);\n",
              "      filter: drop-shadow(0px 1px 2px rgba(0, 0, 0, 0.3));\n",
              "      fill: #FFFFFF;\n",
              "    }\n",
              "  </style>\n",
              "\n",
              "      <script>\n",
              "        const buttonEl =\n",
              "          document.querySelector('#df-555f49fc-4edc-4601-a555-344c59cb857e button.colab-df-convert');\n",
              "        buttonEl.style.display =\n",
              "          google.colab.kernel.accessAllowed ? 'block' : 'none';\n",
              "\n",
              "        async function convertToInteractive(key) {\n",
              "          const element = document.querySelector('#df-555f49fc-4edc-4601-a555-344c59cb857e');\n",
              "          const dataTable =\n",
              "            await google.colab.kernel.invokeFunction('convertToInteractive',\n",
              "                                                     [key], {});\n",
              "          if (!dataTable) return;\n",
              "\n",
              "          const docLinkHtml = 'Like what you see? Visit the ' +\n",
              "            '<a target=\"_blank\" href=https://colab.research.google.com/notebooks/data_table.ipynb>data table notebook</a>'\n",
              "            + ' to learn more about interactive tables.';\n",
              "          element.innerHTML = '';\n",
              "          dataTable['output_type'] = 'display_data';\n",
              "          await google.colab.output.renderOutput(dataTable, element);\n",
              "          const docLink = document.createElement('div');\n",
              "          docLink.innerHTML = docLinkHtml;\n",
              "          element.appendChild(docLink);\n",
              "        }\n",
              "      </script>\n",
              "    </div>\n",
              "  </div>\n",
              "  "
            ]
          },
          "metadata": {},
          "execution_count": 317
        }
      ]
    },
    {
      "cell_type": "code",
      "source": [
        "boundaries_df = data_sources_df[data_sources_df['Type'] == 'Boundaries']\n",
        "\n",
        "## USA\n",
        "index = boundaries_df[boundaries_df['Area'] == 'USA'].index.item()\n",
        "file_name = boundaries_df.loc[index]['Location']\n",
        "us_boundaries_gdf = gpd.read_file(file_name)\n",
        "us_boundaries_gdf['NATION_ID']=\"USA\"\n",
        "us_boundaries_gdf = us_boundaries_gdf.rename(columns={'STUSPS':'SUB_NATION_ID','NAME':'SUB_NATION_NAME'})\n",
        "us_boundaries_gdf = us_boundaries_gdf[['NATION_ID', 'SUB_NATION_ID', 'SUB_NATION_NAME', 'geometry']]\n",
        "us_boundaries_gdf.head()"
      ],
      "metadata": {
        "colab": {
          "base_uri": "https://localhost:8080/",
          "height": 206
        },
        "id": "JpD9D-RRb1kK",
        "outputId": "3e60c2b4-9fed-40b0-c021-c41c7db32b1b"
      },
      "execution_count": 331,
      "outputs": [
        {
          "output_type": "execute_result",
          "data": {
            "text/plain": [
              "  NATION_ID SUB_NATION_ID SUB_NATION_NAME  \\\n",
              "0       USA            MS     Mississippi   \n",
              "1       USA            NC  North Carolina   \n",
              "2       USA            OK        Oklahoma   \n",
              "3       USA            VA        Virginia   \n",
              "4       USA            WV   West Virginia   \n",
              "\n",
              "                                            geometry  \n",
              "0  MULTIPOLYGON (((-88.50297 30.21523, -88.49176 ...  \n",
              "1  MULTIPOLYGON (((-75.72681 35.93584, -75.71827 ...  \n",
              "2  POLYGON ((-103.00257 36.52659, -103.00219 36.6...  \n",
              "3  MULTIPOLYGON (((-75.74241 37.80835, -75.74151 ...  \n",
              "4  POLYGON ((-82.64320 38.16909, -82.64300 38.169...  "
            ],
            "text/html": [
              "\n",
              "  <div id=\"df-f83dc1cb-7742-469e-b57f-e857696f1a51\">\n",
              "    <div class=\"colab-df-container\">\n",
              "      <div>\n",
              "<style scoped>\n",
              "    .dataframe tbody tr th:only-of-type {\n",
              "        vertical-align: middle;\n",
              "    }\n",
              "\n",
              "    .dataframe tbody tr th {\n",
              "        vertical-align: top;\n",
              "    }\n",
              "\n",
              "    .dataframe thead th {\n",
              "        text-align: right;\n",
              "    }\n",
              "</style>\n",
              "<table border=\"1\" class=\"dataframe\">\n",
              "  <thead>\n",
              "    <tr style=\"text-align: right;\">\n",
              "      <th></th>\n",
              "      <th>NATION_ID</th>\n",
              "      <th>SUB_NATION_ID</th>\n",
              "      <th>SUB_NATION_NAME</th>\n",
              "      <th>geometry</th>\n",
              "    </tr>\n",
              "  </thead>\n",
              "  <tbody>\n",
              "    <tr>\n",
              "      <th>0</th>\n",
              "      <td>USA</td>\n",
              "      <td>MS</td>\n",
              "      <td>Mississippi</td>\n",
              "      <td>MULTIPOLYGON (((-88.50297 30.21523, -88.49176 ...</td>\n",
              "    </tr>\n",
              "    <tr>\n",
              "      <th>1</th>\n",
              "      <td>USA</td>\n",
              "      <td>NC</td>\n",
              "      <td>North Carolina</td>\n",
              "      <td>MULTIPOLYGON (((-75.72681 35.93584, -75.71827 ...</td>\n",
              "    </tr>\n",
              "    <tr>\n",
              "      <th>2</th>\n",
              "      <td>USA</td>\n",
              "      <td>OK</td>\n",
              "      <td>Oklahoma</td>\n",
              "      <td>POLYGON ((-103.00257 36.52659, -103.00219 36.6...</td>\n",
              "    </tr>\n",
              "    <tr>\n",
              "      <th>3</th>\n",
              "      <td>USA</td>\n",
              "      <td>VA</td>\n",
              "      <td>Virginia</td>\n",
              "      <td>MULTIPOLYGON (((-75.74241 37.80835, -75.74151 ...</td>\n",
              "    </tr>\n",
              "    <tr>\n",
              "      <th>4</th>\n",
              "      <td>USA</td>\n",
              "      <td>WV</td>\n",
              "      <td>West Virginia</td>\n",
              "      <td>POLYGON ((-82.64320 38.16909, -82.64300 38.169...</td>\n",
              "    </tr>\n",
              "  </tbody>\n",
              "</table>\n",
              "</div>\n",
              "      <button class=\"colab-df-convert\" onclick=\"convertToInteractive('df-f83dc1cb-7742-469e-b57f-e857696f1a51')\"\n",
              "              title=\"Convert this dataframe to an interactive table.\"\n",
              "              style=\"display:none;\">\n",
              "        \n",
              "  <svg xmlns=\"http://www.w3.org/2000/svg\" height=\"24px\"viewBox=\"0 0 24 24\"\n",
              "       width=\"24px\">\n",
              "    <path d=\"M0 0h24v24H0V0z\" fill=\"none\"/>\n",
              "    <path d=\"M18.56 5.44l.94 2.06.94-2.06 2.06-.94-2.06-.94-.94-2.06-.94 2.06-2.06.94zm-11 1L8.5 8.5l.94-2.06 2.06-.94-2.06-.94L8.5 2.5l-.94 2.06-2.06.94zm10 10l.94 2.06.94-2.06 2.06-.94-2.06-.94-.94-2.06-.94 2.06-2.06.94z\"/><path d=\"M17.41 7.96l-1.37-1.37c-.4-.4-.92-.59-1.43-.59-.52 0-1.04.2-1.43.59L10.3 9.45l-7.72 7.72c-.78.78-.78 2.05 0 2.83L4 21.41c.39.39.9.59 1.41.59.51 0 1.02-.2 1.41-.59l7.78-7.78 2.81-2.81c.8-.78.8-2.07 0-2.86zM5.41 20L4 18.59l7.72-7.72 1.47 1.35L5.41 20z\"/>\n",
              "  </svg>\n",
              "      </button>\n",
              "      \n",
              "  <style>\n",
              "    .colab-df-container {\n",
              "      display:flex;\n",
              "      flex-wrap:wrap;\n",
              "      gap: 12px;\n",
              "    }\n",
              "\n",
              "    .colab-df-convert {\n",
              "      background-color: #E8F0FE;\n",
              "      border: none;\n",
              "      border-radius: 50%;\n",
              "      cursor: pointer;\n",
              "      display: none;\n",
              "      fill: #1967D2;\n",
              "      height: 32px;\n",
              "      padding: 0 0 0 0;\n",
              "      width: 32px;\n",
              "    }\n",
              "\n",
              "    .colab-df-convert:hover {\n",
              "      background-color: #E2EBFA;\n",
              "      box-shadow: 0px 1px 2px rgba(60, 64, 67, 0.3), 0px 1px 3px 1px rgba(60, 64, 67, 0.15);\n",
              "      fill: #174EA6;\n",
              "    }\n",
              "\n",
              "    [theme=dark] .colab-df-convert {\n",
              "      background-color: #3B4455;\n",
              "      fill: #D2E3FC;\n",
              "    }\n",
              "\n",
              "    [theme=dark] .colab-df-convert:hover {\n",
              "      background-color: #434B5C;\n",
              "      box-shadow: 0px 1px 3px 1px rgba(0, 0, 0, 0.15);\n",
              "      filter: drop-shadow(0px 1px 2px rgba(0, 0, 0, 0.3));\n",
              "      fill: #FFFFFF;\n",
              "    }\n",
              "  </style>\n",
              "\n",
              "      <script>\n",
              "        const buttonEl =\n",
              "          document.querySelector('#df-f83dc1cb-7742-469e-b57f-e857696f1a51 button.colab-df-convert');\n",
              "        buttonEl.style.display =\n",
              "          google.colab.kernel.accessAllowed ? 'block' : 'none';\n",
              "\n",
              "        async function convertToInteractive(key) {\n",
              "          const element = document.querySelector('#df-f83dc1cb-7742-469e-b57f-e857696f1a51');\n",
              "          const dataTable =\n",
              "            await google.colab.kernel.invokeFunction('convertToInteractive',\n",
              "                                                     [key], {});\n",
              "          if (!dataTable) return;\n",
              "\n",
              "          const docLinkHtml = 'Like what you see? Visit the ' +\n",
              "            '<a target=\"_blank\" href=https://colab.research.google.com/notebooks/data_table.ipynb>data table notebook</a>'\n",
              "            + ' to learn more about interactive tables.';\n",
              "          element.innerHTML = '';\n",
              "          dataTable['output_type'] = 'display_data';\n",
              "          await google.colab.output.renderOutput(dataTable, element);\n",
              "          const docLink = document.createElement('div');\n",
              "          docLink.innerHTML = docLinkHtml;\n",
              "          element.appendChild(docLink);\n",
              "        }\n",
              "      </script>\n",
              "    </div>\n",
              "  </div>\n",
              "  "
            ]
          },
          "metadata": {},
          "execution_count": 331
        }
      ]
    },
    {
      "cell_type": "code",
      "source": [
        "## Canada\n",
        "index = boundaries_df[boundaries_df['Area'] == 'Canada'].index.item()\n",
        "file_name = boundaries_df.loc[index]['Location']\n",
        "can_boundaries_gdf = gpd.read_file(file_name)\n",
        "#can_boundaries_gdf['NATION_ID']=\"USA\"\n",
        "#can_boundaries_gdf = us_boundaries_gdf.rename(columns={'STUSPS':'SUB_NATION_ID','NAME':'SUB_NATION_NAME'})\n",
        "#can_boundaries_gdf = us_boundaries_gdf[['NATION_ID', 'SUB_NATION_ID', 'SUB_NATION_NAME', 'geometry']]\n",
        "can_boundaries_gdf.head()"
      ],
      "metadata": {
        "colab": {
          "base_uri": "https://localhost:8080/",
          "height": 337
        },
        "id": "p-08udYxgNpj",
        "outputId": "049600ec-2aaf-4505-c713-eff4b08fd924"
      },
      "execution_count": 332,
      "outputs": [
        {
          "output_type": "execute_result",
          "data": {
            "text/plain": [
              "  PRUID                                             PRNAME  \\\n",
              "0    10  Newfoundland and Labrador / Terre-Neuve-et-Lab...   \n",
              "1    11       Prince Edward Island / Île-du-Prince-Édouard   \n",
              "2    12                      Nova Scotia / Nouvelle-Écosse   \n",
              "3    13                  New Brunswick / Nouveau-Brunswick   \n",
              "4    24                                    Quebec / Québec   \n",
              "\n",
              "                     PRENAME                  PRFNAME PREABBR   PRFABBR  \\\n",
              "0  Newfoundland and Labrador  Terre-Neuve-et-Labrador    N.L.  T.-N.-L.   \n",
              "1       Prince Edward Island    Île-du-Prince-Édouard  P.E.I.  Î.-P.-É.   \n",
              "2                Nova Scotia          Nouvelle-Écosse    N.S.     N.-É.   \n",
              "3              New Brunswick        Nouveau-Brunswick    N.B.     N.-B.   \n",
              "4                     Quebec                   Québec    Que.        Qc   \n",
              "\n",
              "                                            geometry  \n",
              "0  MULTIPOLYGON (((8307365.589 2582136.711, 83083...  \n",
              "1  MULTIPOLYGON (((8435711.754 1679935.966, 84358...  \n",
              "2  MULTIPOLYGON (((8470851.646 1624745.011, 84710...  \n",
              "3  MULTIPOLYGON (((8176224.537 1722553.460, 81762...  \n",
              "4  MULTIPOLYGON (((8399709.494 2261445.703, 84005...  "
            ],
            "text/html": [
              "\n",
              "  <div id=\"df-17b7013b-3bc9-4344-9dc5-dfff29014b6c\">\n",
              "    <div class=\"colab-df-container\">\n",
              "      <div>\n",
              "<style scoped>\n",
              "    .dataframe tbody tr th:only-of-type {\n",
              "        vertical-align: middle;\n",
              "    }\n",
              "\n",
              "    .dataframe tbody tr th {\n",
              "        vertical-align: top;\n",
              "    }\n",
              "\n",
              "    .dataframe thead th {\n",
              "        text-align: right;\n",
              "    }\n",
              "</style>\n",
              "<table border=\"1\" class=\"dataframe\">\n",
              "  <thead>\n",
              "    <tr style=\"text-align: right;\">\n",
              "      <th></th>\n",
              "      <th>PRUID</th>\n",
              "      <th>PRNAME</th>\n",
              "      <th>PRENAME</th>\n",
              "      <th>PRFNAME</th>\n",
              "      <th>PREABBR</th>\n",
              "      <th>PRFABBR</th>\n",
              "      <th>geometry</th>\n",
              "    </tr>\n",
              "  </thead>\n",
              "  <tbody>\n",
              "    <tr>\n",
              "      <th>0</th>\n",
              "      <td>10</td>\n",
              "      <td>Newfoundland and Labrador / Terre-Neuve-et-Lab...</td>\n",
              "      <td>Newfoundland and Labrador</td>\n",
              "      <td>Terre-Neuve-et-Labrador</td>\n",
              "      <td>N.L.</td>\n",
              "      <td>T.-N.-L.</td>\n",
              "      <td>MULTIPOLYGON (((8307365.589 2582136.711, 83083...</td>\n",
              "    </tr>\n",
              "    <tr>\n",
              "      <th>1</th>\n",
              "      <td>11</td>\n",
              "      <td>Prince Edward Island / Île-du-Prince-Édouard</td>\n",
              "      <td>Prince Edward Island</td>\n",
              "      <td>Île-du-Prince-Édouard</td>\n",
              "      <td>P.E.I.</td>\n",
              "      <td>Î.-P.-É.</td>\n",
              "      <td>MULTIPOLYGON (((8435711.754 1679935.966, 84358...</td>\n",
              "    </tr>\n",
              "    <tr>\n",
              "      <th>2</th>\n",
              "      <td>12</td>\n",
              "      <td>Nova Scotia / Nouvelle-Écosse</td>\n",
              "      <td>Nova Scotia</td>\n",
              "      <td>Nouvelle-Écosse</td>\n",
              "      <td>N.S.</td>\n",
              "      <td>N.-É.</td>\n",
              "      <td>MULTIPOLYGON (((8470851.646 1624745.011, 84710...</td>\n",
              "    </tr>\n",
              "    <tr>\n",
              "      <th>3</th>\n",
              "      <td>13</td>\n",
              "      <td>New Brunswick / Nouveau-Brunswick</td>\n",
              "      <td>New Brunswick</td>\n",
              "      <td>Nouveau-Brunswick</td>\n",
              "      <td>N.B.</td>\n",
              "      <td>N.-B.</td>\n",
              "      <td>MULTIPOLYGON (((8176224.537 1722553.460, 81762...</td>\n",
              "    </tr>\n",
              "    <tr>\n",
              "      <th>4</th>\n",
              "      <td>24</td>\n",
              "      <td>Quebec / Québec</td>\n",
              "      <td>Quebec</td>\n",
              "      <td>Québec</td>\n",
              "      <td>Que.</td>\n",
              "      <td>Qc</td>\n",
              "      <td>MULTIPOLYGON (((8399709.494 2261445.703, 84005...</td>\n",
              "    </tr>\n",
              "  </tbody>\n",
              "</table>\n",
              "</div>\n",
              "      <button class=\"colab-df-convert\" onclick=\"convertToInteractive('df-17b7013b-3bc9-4344-9dc5-dfff29014b6c')\"\n",
              "              title=\"Convert this dataframe to an interactive table.\"\n",
              "              style=\"display:none;\">\n",
              "        \n",
              "  <svg xmlns=\"http://www.w3.org/2000/svg\" height=\"24px\"viewBox=\"0 0 24 24\"\n",
              "       width=\"24px\">\n",
              "    <path d=\"M0 0h24v24H0V0z\" fill=\"none\"/>\n",
              "    <path d=\"M18.56 5.44l.94 2.06.94-2.06 2.06-.94-2.06-.94-.94-2.06-.94 2.06-2.06.94zm-11 1L8.5 8.5l.94-2.06 2.06-.94-2.06-.94L8.5 2.5l-.94 2.06-2.06.94zm10 10l.94 2.06.94-2.06 2.06-.94-2.06-.94-.94-2.06-.94 2.06-2.06.94z\"/><path d=\"M17.41 7.96l-1.37-1.37c-.4-.4-.92-.59-1.43-.59-.52 0-1.04.2-1.43.59L10.3 9.45l-7.72 7.72c-.78.78-.78 2.05 0 2.83L4 21.41c.39.39.9.59 1.41.59.51 0 1.02-.2 1.41-.59l7.78-7.78 2.81-2.81c.8-.78.8-2.07 0-2.86zM5.41 20L4 18.59l7.72-7.72 1.47 1.35L5.41 20z\"/>\n",
              "  </svg>\n",
              "      </button>\n",
              "      \n",
              "  <style>\n",
              "    .colab-df-container {\n",
              "      display:flex;\n",
              "      flex-wrap:wrap;\n",
              "      gap: 12px;\n",
              "    }\n",
              "\n",
              "    .colab-df-convert {\n",
              "      background-color: #E8F0FE;\n",
              "      border: none;\n",
              "      border-radius: 50%;\n",
              "      cursor: pointer;\n",
              "      display: none;\n",
              "      fill: #1967D2;\n",
              "      height: 32px;\n",
              "      padding: 0 0 0 0;\n",
              "      width: 32px;\n",
              "    }\n",
              "\n",
              "    .colab-df-convert:hover {\n",
              "      background-color: #E2EBFA;\n",
              "      box-shadow: 0px 1px 2px rgba(60, 64, 67, 0.3), 0px 1px 3px 1px rgba(60, 64, 67, 0.15);\n",
              "      fill: #174EA6;\n",
              "    }\n",
              "\n",
              "    [theme=dark] .colab-df-convert {\n",
              "      background-color: #3B4455;\n",
              "      fill: #D2E3FC;\n",
              "    }\n",
              "\n",
              "    [theme=dark] .colab-df-convert:hover {\n",
              "      background-color: #434B5C;\n",
              "      box-shadow: 0px 1px 3px 1px rgba(0, 0, 0, 0.15);\n",
              "      filter: drop-shadow(0px 1px 2px rgba(0, 0, 0, 0.3));\n",
              "      fill: #FFFFFF;\n",
              "    }\n",
              "  </style>\n",
              "\n",
              "      <script>\n",
              "        const buttonEl =\n",
              "          document.querySelector('#df-17b7013b-3bc9-4344-9dc5-dfff29014b6c button.colab-df-convert');\n",
              "        buttonEl.style.display =\n",
              "          google.colab.kernel.accessAllowed ? 'block' : 'none';\n",
              "\n",
              "        async function convertToInteractive(key) {\n",
              "          const element = document.querySelector('#df-17b7013b-3bc9-4344-9dc5-dfff29014b6c');\n",
              "          const dataTable =\n",
              "            await google.colab.kernel.invokeFunction('convertToInteractive',\n",
              "                                                     [key], {});\n",
              "          if (!dataTable) return;\n",
              "\n",
              "          const docLinkHtml = 'Like what you see? Visit the ' +\n",
              "            '<a target=\"_blank\" href=https://colab.research.google.com/notebooks/data_table.ipynb>data table notebook</a>'\n",
              "            + ' to learn more about interactive tables.';\n",
              "          element.innerHTML = '';\n",
              "          dataTable['output_type'] = 'display_data';\n",
              "          await google.colab.output.renderOutput(dataTable, element);\n",
              "          const docLink = document.createElement('div');\n",
              "          docLink.innerHTML = docLinkHtml;\n",
              "          element.appendChild(docLink);\n",
              "        }\n",
              "      </script>\n",
              "    </div>\n",
              "  </div>\n",
              "  "
            ]
          },
          "metadata": {},
          "execution_count": 332
        }
      ]
    },
    {
      "cell_type": "code",
      "source": [
        "us_boundaries_gdf.plot()"
      ],
      "metadata": {
        "colab": {
          "base_uri": "https://localhost:8080/",
          "height": 201
        },
        "id": "U6AylexqnDBk",
        "outputId": "22cdc1ea-3a04-4ca9-d59d-1c0d1e98d06e"
      },
      "execution_count": 336,
      "outputs": [
        {
          "output_type": "execute_result",
          "data": {
            "text/plain": [
              "<Axes: >"
            ]
          },
          "metadata": {},
          "execution_count": 336
        },
        {
          "output_type": "display_data",
          "data": {
            "text/plain": [
              "<Figure size 640x480 with 1 Axes>"
            ],
            "image/png": "[encoded data removed]"
          },
          "metadata": {}
        }
      ]
    },
    {
      "cell_type": "code",
      "source": [
        "can_boundaries_gdf.plot()"
      ],
      "metadata": {
        "colab": {
          "base_uri": "https://localhost:8080/",
          "height": 480
        },
        "id": "O0GgKPAamYtY",
        "outputId": "fb64197e-dc54-4935-850c-5fa6290e89ef"
      },
      "execution_count": 335,
      "outputs": [
        {
          "output_type": "execute_result",
          "data": {
            "text/plain": [
              "<Axes: >"
            ]
          },
          "metadata": {},
          "execution_count": 335
        },
        {
          "output_type": "display_data",
          "data": {
            "text/plain": [
              "<Figure size 640x480 with 1 Axes>"
            ],
            "image/png": "[encoded data removed]"
          },
          "metadata": {}
        }
      ]
    },
    {
      "cell_type": "markdown",
      "source": [
        "## Définition de la zone d'étude"
      ],
      "metadata": {
        "id": "ksakWKKXW0ZV"
      }
    },
    {
      "cell_type": "code",
      "source": [],
      "metadata": {
        "id": "pVbl31pHW7H2"
      },
      "execution_count": null,
      "outputs": []
    },
    {
      "cell_type": "markdown",
      "source": [
        "Notre zone d'étude est définie par un fichier geojson.\n",
        "\n",
        "Pour le moment, ce fichier contient une géométrie centrée sur Montréal\n",
        "\n"
      ],
      "metadata": {
        "id": "mGrW7ZVu3gSK"
      }
    },
    {
      "cell_type": "code",
      "source": [
        "# urban_centers = [\"Montreal\"]\n",
        "# # API Google to get the coordinate of the urban centers of our study\n",
        "# \n",
        "# # Define a study zone englobing all the urban centers\n",
        "#\n",
        "# # Retrieve the data for the study zone"
      ],
      "metadata": {
        "id": "VULbfMl82M2b"
      },
      "execution_count": null,
      "outputs": []
    },
    {
      "cell_type": "code",
      "source": [
        "# Desired CRS\n",
        "zone_crs = 'EPSG:4326'\n",
        "\n",
        "# File containing the geometry of the study area\n",
        "file_name = 'study_area.geojson'"
      ],
      "metadata": {
        "id": "akYobPU87EPR"
      },
      "execution_count": 1,
      "outputs": []
    },
    {
      "cell_type": "code",
      "source": [
        "# Load the geometry\n",
        "zone_gdf = gpd.read_file(f'/content/{file_name}')\n",
        "\n",
        "# Convert to the desired CRS\n",
        "zone_gdf = zone_gdf.to_crs(zone_crs)"
      ],
      "metadata": {
        "id": "CZOS2duO2SKc",
        "colab": {
          "base_uri": "https://localhost:8080/",
          "height": 237
        },
        "outputId": "3481d28f-998b-4637-aef3-2787fa334701"
      },
      "execution_count": 2,
      "outputs": [
        {
          "output_type": "error",
          "ename": "NameError",
          "evalue": "ignored",
          "traceback": [
            "\u001b[0;31m---------------------------------------------------------------------------\u001b[0m",
            "\u001b[0;31mNameError\u001b[0m                                 Traceback (most recent call last)",
            "\u001b[0;32m<ipython-input-2-18928b730fe7>\u001b[0m in \u001b[0;36m<cell line: 2>\u001b[0;34m()\u001b[0m\n\u001b[1;32m      1\u001b[0m \u001b[0;31m# Load the geometry\u001b[0m\u001b[0;34m\u001b[0m\u001b[0;34m\u001b[0m\u001b[0m\n\u001b[0;32m----> 2\u001b[0;31m \u001b[0mzone_gdf\u001b[0m \u001b[0;34m=\u001b[0m \u001b[0mgpd\u001b[0m\u001b[0;34m.\u001b[0m\u001b[0mread_file\u001b[0m\u001b[0;34m(\u001b[0m\u001b[0;34mf'/content/{file_name}'\u001b[0m\u001b[0;34m)\u001b[0m\u001b[0;34m\u001b[0m\u001b[0;34m\u001b[0m\u001b[0m\n\u001b[0m\u001b[1;32m      3\u001b[0m \u001b[0;34m\u001b[0m\u001b[0m\n\u001b[1;32m      4\u001b[0m \u001b[0;31m# Convert to the desired CRS\u001b[0m\u001b[0;34m\u001b[0m\u001b[0;34m\u001b[0m\u001b[0m\n\u001b[1;32m      5\u001b[0m \u001b[0mzone_gdf\u001b[0m \u001b[0;34m=\u001b[0m \u001b[0mzone_gdf\u001b[0m\u001b[0;34m.\u001b[0m\u001b[0mto_crs\u001b[0m\u001b[0;34m(\u001b[0m\u001b[0mzone_crs\u001b[0m\u001b[0;34m)\u001b[0m\u001b[0;34m\u001b[0m\u001b[0;34m\u001b[0m\u001b[0m\n",
            "\u001b[0;31mNameError\u001b[0m: name 'gpd' is not defined"
          ]
        }
      ]
    },
    {
      "cell_type": "markdown",
      "source": [
        "## Préparation des données propres à la zone d'étude"
      ],
      "metadata": {
        "id": "n5ROV-eP2SZT"
      }
    },
    {
      "cell_type": "markdown",
      "source": [
        "## Données administratives"
      ],
      "metadata": {
        "id": "IckBQCWTt3UV"
      }
    },
    {
      "cell_type": "code",
      "source": [
        "# Data with KML format\n",
        "import fiona\n",
        "\n",
        "# Data file\n",
        "file_name = 'canvec_admin.kml'\n",
        "file_location = f'{data_path}/{file_name}'\n",
        "\n",
        "# Load kml file\n",
        "gdf = gpd.read_file(file_location, driver='KML')"
      ],
      "metadata": {
        "id": "8m0Y2ye6t2TO"
      },
      "execution_count": null,
      "outputs": []
    },
    {
      "cell_type": "markdown",
      "source": [
        "Explorer les données"
      ],
      "metadata": {
        "id": "s9ICt3fk_mfm"
      }
    },
    {
      "cell_type": "code",
      "source": [
        "# Lister les provinces\n",
        "print(gdf['Name'])\n",
        "\n",
        "# Show geometry for a Province in particular\n",
        "gdf[gdf['Name']=='Quebec'].plot()"
      ],
      "metadata": {
        "colab": {
          "base_uri": "https://localhost:8080/",
          "height": 698
        },
        "id": "BFMfleOH_j5l",
        "outputId": "985f45ac-d74c-4a67-99c1-7485e65d4e5d"
      },
      "execution_count": null,
      "outputs": [
        {
          "output_type": "stream",
          "name": "stdout",
          "text": [
            "0                 New Brunswick\n",
            "1     Newfoundland and Labrador\n",
            "2                      Manitoba\n",
            "3                  Saskatchewan\n",
            "4                        Quebec\n",
            "5          Prince Edward Island\n",
            "6                       Alberta\n",
            "7              British Columbia\n",
            "8                   Nova Scotia\n",
            "9                       Ontario\n",
            "10                        Yukon\n",
            "11        Northwest Territories\n",
            "12                      Nunavut\n",
            "Name: Name, dtype: object\n"
          ]
        },
        {
          "output_type": "execute_result",
          "data": {
            "text/plain": [
              "<Axes: >"
            ]
          },
          "metadata": {},
          "execution_count": 119
        },
        {
          "output_type": "display_data",
          "data": {
            "text/plain": [
              "<Figure size 640x480 with 1 Axes>"
            ],
            "image/png": "[encoded data removed]"
          },
          "metadata": {}
        }
      ]
    },
    {
      "cell_type": "markdown",
      "source": [
        "## Données matricielles de densité de population"
      ],
      "metadata": {
        "id": "C_tnunHcMElY"
      }
    },
    {
      "cell_type": "markdown",
      "source": [
        "Répartition de la population\n",
        "*   Type: Carte matricielle (GeoTiff)\n",
        "*   Couverture: mondiale\n",
        "*   Date: 2020\n",
        "*   Source: World Pop\n",
        "*   Description: https://data.humdata.org/dataset/worldpop-population-counts-for-world\n",
        "*   Fichier: https://data.worldpop.org/GIS/Population/Global_2000_2020/2020/0_Mosaicked/ppp_2020_1km_Aggregated.tif\n",
        "\n"
      ],
      "metadata": {
        "id": "uQp8OUpx1Smr"
      }
    },
    {
      "cell_type": "code",
      "source": [
        "# Data file\n",
        "file_name = 'ppp_2020_1km_Aggregated.tif'\n",
        "\n",
        "# Load Data file\n",
        "population_raster = rasterio.open(f'{data_path}/{file_name}')\n",
        "\n",
        "# Show some info about the data\n",
        "print(population_raster.profile)\n",
        "print(population_raster.shape) # quelle est la taille de l'image ?\n",
        "print(population_raster.count) # quel est le nombre de couches ?\n",
        "print(population_raster.bounds) # quelle est l'enmprise de la couche dans son système de coordonnées ?\n",
        "print(population_raster.crs) #... d'ailleurs, quel est son système de projection ?\n",
        "print(population_raster.dtypes) # quel est le type des données des pixels de l'image ?\n",
        "print(population_raster.width, population_raster.height) # Largeur, hauteur\n",
        "\n",
        "# Convert to desired CRS\n",
        "if population_raster.crs != zone_crs:\n",
        "   population_raster.to_crs(zone_crs)"
      ],
      "metadata": {
        "id": "WiD6QPzOQQ_9",
        "colab": {
          "base_uri": "https://localhost:8080/"
        },
        "outputId": "61980d15-94b3-4266-fb11-b7ce2e28fa5c"
      },
      "execution_count": null,
      "outputs": [
        {
          "output_type": "stream",
          "name": "stdout",
          "text": [
            "{'driver': 'GTiff', 'dtype': 'float32', 'nodata': -3.4028234663852886e+38, 'width': 43200, 'height': 18720, 'count': 1, 'crs': CRS.from_epsg(4326), 'transform': Affine(0.0083333333, 0.0, -180.001249265,\n",
            "       0.0, -0.0083333333, 83.99958319871001), 'blockxsize': 256, 'blockysize': 256, 'tiled': True, 'compress': 'lzw', 'interleave': 'band'}\n",
            "(18720, 43200)\n",
            "1\n",
            "BoundingBox(left=-180.001249265, bottom=-72.00041617728999, right=179.99874929500004, top=83.99958319871001)\n",
            "EPSG:4326\n",
            "('float32',)\n",
            "43200 18720\n"
          ]
        }
      ]
    },
    {
      "cell_type": "code",
      "source": [
        "# Create a mask for RasterIO from the study zone\n",
        "zone_mask = [json.loads(zone_gdf.to_json())['features'][0]['geometry']]\n",
        "\n",
        "# clip raster\n",
        "zone_population_raster = rasterio.mask.mask(population_raster, zone_mask, crop=True)"
      ],
      "metadata": {
        "id": "FV8yoz0ZQQ0D"
      },
      "execution_count": null,
      "outputs": []
    },
    {
      "cell_type": "code",
      "source": [
        "# Show the data\n",
        "plt.imshow(zone_population_raster[0][0], cmap='Greys')"
      ],
      "metadata": {
        "colab": {
          "base_uri": "https://localhost:8080/",
          "height": 468
        },
        "id": "kUcVA8P4YE9g",
        "outputId": "6007abaf-d086-4b9e-f7a6-f4a305f3b819"
      },
      "execution_count": null,
      "outputs": [
        {
          "output_type": "execute_result",
          "data": {
            "text/plain": [
              "<matplotlib.image.AxesImage at 0x7f42ef43f820>"
            ]
          },
          "metadata": {},
          "execution_count": 123
        },
        {
          "output_type": "stream",
          "name": "stderr",
          "text": [
            "/usr/local/lib/python3.9/dist-packages/matplotlib/image.py:505: RuntimeWarning: overflow encountered in multiply\n",
            "  A_resampled *= ((a_max - a_min) / frac)\n"
          ]
        },
        {
          "output_type": "display_data",
          "data": {
            "text/plain": [
              "<Figure size 640x480 with 1 Axes>"
            ],
            "image/png": "[encoded data removed]"
          },
          "metadata": {}
        }
      ]
    },
    {
      "cell_type": "code",
      "source": [
        "# Extract numPY array from raster\n",
        "img_np = population_raster.read()\n",
        "\n",
        "# Print some information about the array\n",
        "print(\"Dimension de l'array :\", img_np.shape)\n",
        "print(\"La première bande :\", img_np[0]) # pour accéder à la première bande\n",
        "print(\"Les valeurs min et max des pixel de la bande :\", img_np[0].min(), img_np.max()) # les valeurs minimale et maximale de la bande\n",
        "print(\"La valeur du pixel central de la bande :\", img_np[0, int(img_np[0].shape[0]/2), int(img_np[0].shape[1]/2)]) # pour accéder à tel ou tel pixel de la bande\n",
        "print(\"La moyenne des pixels d'une bande :\", np.mean(img_np[0][img_np[0] != 255])) # pour calculer des statistiques classiques sur la première bande\n",
        "plt.imshow(img_np[0], cmap='Greys') # pour afficher une bande \n",
        "\n",
        "#plt.hist(np.histogram(img_np, bins=10, range=None, density=None, weights=None), bins='auto')"
      ],
      "metadata": {
        "id": "7w4qycKdcYdb"
      },
      "execution_count": null,
      "outputs": []
    },
    {
      "cell_type": "code",
      "source": [
        "x=len(zone_population_raster[0][0][0])\n",
        "y=len(zone_population_raster[0][0])\n",
        "print(f'x={x} y={y}')\n",
        "print(len(zone_population_raster[0][0][0]))\n",
        "print(\"Densite de population au km2 (centre de la carte):\", zone_population_raster[0][0][int(y/2)][int(x/2)])"
      ],
      "metadata": {
        "colab": {
          "base_uri": "https://localhost:8080/"
        },
        "id": "WDbBWxYDemPT",
        "outputId": "e687a7be-2f80-4037-ccfd-f6aaeb069914"
      },
      "execution_count": null,
      "outputs": [
        {
          "output_type": "stream",
          "name": "stdout",
          "text": [
            "x=463 y=326\n",
            "463\n",
            "Densite de population au km2 (centre de la carte): 1475.3801\n"
          ]
        }
      ]
    },
    {
      "cell_type": "code",
      "source": [],
      "metadata": {
        "id": "6-4Hh359dV0k"
      },
      "execution_count": null,
      "outputs": []
    }
  ]
}