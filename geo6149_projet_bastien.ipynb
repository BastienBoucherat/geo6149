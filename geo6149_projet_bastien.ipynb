{
  "nbformat": 4,
  "nbformat_minor": 0,
  "metadata": {
    "colab": {
      "provenance": [],
      "collapsed_sections": [
        "HHVcVGHIYq65",
        "0xpTmIA4LeYi",
        "c8o12lf-LmHs"
      ],
      "include_colab_link": true
    },
    "kernelspec": {
      "name": "python3",
      "display_name": "Python 3"
    },
    "language_info": {
      "name": "python"
    }
  },
  "cells": [
    {
      "cell_type": "markdown",
      "metadata": {
        "id": "view-in-github",
        "colab_type": "text"
      },
      "source": [
        "<a href=\"https://colab.research.google.com/github/BastienBoucherat/geo6149/blob/main/geo6149_projet_bastien.ipynb\" target=\"_parent\"><img src=\"https://colab.research.google.com/assets/colab-badge.svg\" alt=\"Open In Colab\"/></a>"
      ]
    },
    {
      "cell_type": "markdown",
      "source": [
        "# **Projet: Autonomie alimentaire et territoire**\n",
        "GEO-6149: Géomatique\n",
        "\n",
        "*   Bastien Boucherat (20155314)\n",
        "*   Juliette Goulet ()\n"
      ],
      "metadata": {
        "id": "9HF8HDtfEtVo"
      }
    },
    {
      "cell_type": "markdown",
      "source": [
        "# **Configuration de l'environnement de travail**"
      ],
      "metadata": {
        "id": "c6EDSZBxJnid"
      }
    },
    {
      "cell_type": "markdown",
      "source": [
        "## Arborescence des dossiers\n",
        "Creation de quelques dossiers de travail sur Google Colab."
      ],
      "metadata": {
        "id": "HHVcVGHIYq65"
      }
    },
    {
      "cell_type": "code",
      "source": [
        "# This folder is a temporary sandbox\n",
        "# Note that the content will be deleted once done\n",
        "tmp_folder = \"/content/tmp\"\n",
        "%mkdir tmp_folder\n",
        "\n",
        "# This folder will contain the data pre-formatted for the study area\n",
        "# The data is pre-processed to match the study area\n",
        "data_folder = \"/content/data\"\n",
        "%mkdir data_folder\n"
      ],
      "metadata": {
        "id": "iYE-j62_79_i"
      },
      "execution_count": 75,
      "outputs": []
    },
    {
      "cell_type": "markdown",
      "source": [
        "## Installation des paquets"
      ],
      "metadata": {
        "id": "0xpTmIA4LeYi"
      }
    },
    {
      "cell_type": "markdown",
      "source": [
        "Installation de **GeoPandas** pour le traitement des données géospatiales"
      ],
      "metadata": {
        "id": "9T2m3KuKKrmw"
      }
    },
    {
      "cell_type": "code",
      "source": [
        "# Install Geopandas\n",
        "%%capture\n",
        "!apt-get install -qq curl g++ make\n",
        "!curl -L http://download.osgeo.org/libspatialindex/spatialindex-src-1.8.5.tar.gz | tar xz\n",
        "import os\n",
        "os.chdir('spatialindex-src-1.8.5')\n",
        "!./configure\n",
        "!make\n",
        "!make install\n",
        "!pip install rtree\n",
        "!ldconfig\n",
        "!pip install geopandas"
      ],
      "metadata": {
        "id": "y1HqjGDcDQBy"
      },
      "execution_count": 2,
      "outputs": []
    },
    {
      "cell_type": "markdown",
      "source": [
        "Installation de **RasterIO** pour le traitement des données matricielles"
      ],
      "metadata": {
        "id": "FtREnGYxKv4Y"
      }
    },
    {
      "cell_type": "code",
      "source": [
        "# Install rasterIO\n",
        "%%capture\n",
        "!pip install rasterio"
      ],
      "metadata": {
        "id": "u0t0jNJaB2Qy"
      },
      "execution_count": 8,
      "outputs": []
    },
    {
      "cell_type": "markdown",
      "source": [
        "## Importation des paquets"
      ],
      "metadata": {
        "id": "c8o12lf-LmHs"
      }
    },
    {
      "cell_type": "code",
      "source": [
        "# Environment\n",
        "# Packages necessary to handle files in Google Colab.\n",
        "import os\n",
        "import os.path"
      ],
      "metadata": {
        "id": "HfBsC6KcXi4x"
      },
      "execution_count": 3,
      "outputs": []
    },
    {
      "cell_type": "code",
      "source": [
        "# Data processing\n",
        "import numpy as np\n",
        "import pandas as pd\n",
        "import geopandas as gpd"
      ],
      "metadata": {
        "id": "en5b4myDT-gc"
      },
      "execution_count": 4,
      "outputs": []
    },
    {
      "cell_type": "code",
      "source": [
        "# Data processing: raster data\n",
        "# https://rasterio.readthedocs.io/en/latest/intro.html\n",
        "import rasterio\n",
        "import rasterio.plot\n",
        "import rasterio.mask"
      ],
      "metadata": {
        "id": "f1eOrqo0C9bp"
      },
      "execution_count": 5,
      "outputs": []
    },
    {
      "cell_type": "code",
      "source": [
        "# Data format\n",
        "import json"
      ],
      "metadata": {
        "id": "7vUvgQHoMI6w"
      },
      "execution_count": 6,
      "outputs": []
    },
    {
      "cell_type": "code",
      "source": [
        "# Data visualisation\n",
        "import matplotlib.pyplot as plt\n",
        "#import contextily as cx # fond de cartes"
      ],
      "metadata": {
        "id": "hlRgquo4MIqb"
      },
      "execution_count": 7,
      "outputs": []
    },
    {
      "cell_type": "markdown",
      "source": [
        "# **Chargement des données**"
      ],
      "metadata": {
        "id": "ltFPj_8jXzlr"
      }
    },
    {
      "cell_type": "markdown",
      "source": [
        "## Récuperation des données distantes"
      ],
      "metadata": {
        "id": "u8J12iSzYaSS"
      }
    },
    {
      "cell_type": "code",
      "source": [
        "# Load the list of remote data files\n",
        "data_sources_df = pd.read_csv('/content/data_sources.csv')"
      ],
      "metadata": {
        "id": "4zfnfsz8_XFj"
      },
      "execution_count": 74,
      "outputs": []
    },
    {
      "cell_type": "code",
      "source": [
        "# Remote files will be downloaded and extracted in this folder\n",
        "# Then, downloaded files will be used to generate pre-processed data files eventually stored locally in another folder\n",
        "%cd tmp_folder\n",
        "\n",
        "# Download only selected data files\n",
        "download_data_sources = data_sources_df[data_sources_df['Use']==True]\n",
        "\n",
        "# For each source\n",
        "for index, data_source in download_data_sources.iterrows():\n",
        "\n",
        "    # Get the file attributes from the link\n",
        "    file = data_source['Link'].split('/')[-1]\n",
        "    file_name = file_name.split('.')[0]\n",
        "    file_ext = file_name.split('.')[-1]\n",
        "\n",
        "    # Download the file\n",
        "    if ~os.path.isfile(file):\n",
        "        print(data_source['Link'])\n",
        "        !wget data_source['Link']\n",
        "    \n",
        "    # Extract if necessary\n",
        "    if file_ext == 'zip':\n",
        "        !unzip -u file -d file_name\n",
        "\n"
      ],
      "metadata": {
        "colab": {
          "base_uri": "https://localhost:8080/"
        },
        "id": "wBjI7aodRCL5",
        "outputId": "afa64bc4-dad5-452e-96e3-dda901382a2d"
      },
      "execution_count": 77,
      "outputs": [
        {
          "output_type": "stream",
          "name": "stdout",
          "text": [
            "[Errno 2] No such file or directory: 'tmp_folder'\n",
            "/content/spatialindex-src-1.8.5/tmp_folder\n",
            "https://www12.statcan.gc.ca/census-recensement/2021/geo/sip-pis/boundary-limites/files-fichiers/lpr_000b21a_e.zip\n",
            "--2023-04-07 22:01:27--  http://data_source%5Blink%5D/\n",
            "Resolving data_source[link] (data_source[link])... failed: Name or service not known.\n",
            "wget: unable to resolve host address ‘data_source[link]’\n",
            "https://www2.census.gov/geo/tiger/GENZ2018/shp/cb_2018_us_state_500k.zip\n",
            "--2023-04-07 22:01:27--  http://data_source%5Blink%5D/\n",
            "Resolving data_source[link] (data_source[link])... failed: Name or service not known.\n",
            "wget: unable to resolve host address ‘data_source[link]’\n",
            "https://data.worldpop.org/GIS/Population/Global_2000_2020/2020/0_Mosaicked/ppp_2020_1km_Aggregated.tif\n",
            "--2023-04-07 22:01:27--  http://data_source%5Blink%5D/\n",
            "Resolving data_source[link] (data_source[link])... failed: Name or service not known.\n",
            "wget: unable to resolve host address ‘data_source[link]’\n",
            "https://ghsl.jrc.ec.europa.eu/download/GHSL_data_54009_shapefile.zip\n",
            "--2023-04-07 22:01:27--  http://data_source%5Blink%5D/\n",
            "Resolving data_source[link] (data_source[link])... failed: Name or service not known.\n",
            "wget: unable to resolve host address ‘data_source[link]’\n"
          ]
        }
      ]
    },
    {
      "cell_type": "code",
      "source": [
        "file_name.split('.')[0:-1]\n"
      ],
      "metadata": {
        "colab": {
          "base_uri": "https://localhost:8080/"
        },
        "id": "JpD9D-RRb1kK",
        "outputId": "f44d056c-dc66-43d8-d81b-77a74fcddff9"
      },
      "execution_count": 68,
      "outputs": [
        {
          "output_type": "execute_result",
          "data": {
            "text/plain": [
              "['GHSL_data_54009_shapefile']"
            ]
          },
          "metadata": {},
          "execution_count": 68
        }
      ]
    },
    {
      "cell_type": "markdown",
      "source": [
        "## Zone d'étude"
      ],
      "metadata": {
        "id": "n5ROV-eP2SZT"
      }
    },
    {
      "cell_type": "markdown",
      "source": [
        "Notre zone d'étude est définie par un fichier geojson.\n",
        "\n",
        "Pour le moment, ce fichier contient une géométrie centrée sur Montréal\n",
        "\n"
      ],
      "metadata": {
        "id": "mGrW7ZVu3gSK"
      }
    },
    {
      "cell_type": "code",
      "source": [
        "# urban_centers = [\"Montreal\"]\n",
        "# # API Google to get the coordinate of the urban centers of our study\n",
        "# \n",
        "# # Define a study zone englobing all the urban centers\n",
        "#\n",
        "# # Retrieve the data for the study zone"
      ],
      "metadata": {
        "id": "VULbfMl82M2b"
      },
      "execution_count": 9,
      "outputs": []
    },
    {
      "cell_type": "code",
      "source": [
        "# Desired CRS\n",
        "zone_crs = 'EPSG:4326'\n",
        "\n",
        "# File containing the geometry of the study area\n",
        "file_name = 'study_area.geojson'"
      ],
      "metadata": {
        "id": "akYobPU87EPR"
      },
      "execution_count": 10,
      "outputs": []
    },
    {
      "cell_type": "code",
      "source": [
        "# Load the geometry\n",
        "zone_gdf = gpd.read_file(f'/content/{file_name}')\n",
        "\n",
        "# Convert to the desired CRS\n",
        "zone_gdf = zone_gdf.to_crs(zone_crs)"
      ],
      "metadata": {
        "id": "CZOS2duO2SKc"
      },
      "execution_count": 11,
      "outputs": []
    },
    {
      "cell_type": "markdown",
      "source": [
        "## Pré-traitement des données pour la zone d'étude"
      ],
      "metadata": {
        "id": "_FoM1eoHaDbH"
      }
    },
    {
      "cell_type": "code",
      "source": [],
      "metadata": {
        "id": "zBpqsiiqaSAj"
      },
      "execution_count": null,
      "outputs": []
    },
    {
      "cell_type": "markdown",
      "source": [
        "## Données administratives"
      ],
      "metadata": {
        "id": "IckBQCWTt3UV"
      }
    },
    {
      "cell_type": "code",
      "source": [
        "# Data with KML format\n",
        "import fiona\n",
        "\n",
        "# Data file\n",
        "file_name = 'canvec_admin.kml'\n",
        "file_location = f'{data_path}/{file_name}'\n",
        "\n",
        "# Load kml file\n",
        "gdf = gpd.read_file(file_location, driver='KML')"
      ],
      "metadata": {
        "id": "8m0Y2ye6t2TO",
        "colab": {
          "base_uri": "https://localhost:8080/",
          "height": 348
        },
        "outputId": "66849d58-064a-40bf-d60a-c5844ff7a767"
      },
      "execution_count": 33,
      "outputs": [
        {
          "output_type": "error",
          "ename": "DriverError",
          "evalue": "ignored",
          "traceback": [
            "\u001b[0;31m---------------------------------------------------------------------------\u001b[0m",
            "\u001b[0;31mDriverError\u001b[0m                               Traceback (most recent call last)",
            "\u001b[0;32m<ipython-input-33-871f694bf87c>\u001b[0m in \u001b[0;36m<cell line: 9>\u001b[0;34m()\u001b[0m\n\u001b[1;32m      7\u001b[0m \u001b[0;34m\u001b[0m\u001b[0m\n\u001b[1;32m      8\u001b[0m \u001b[0;31m# Load kml file\u001b[0m\u001b[0;34m\u001b[0m\u001b[0;34m\u001b[0m\u001b[0m\n\u001b[0;32m----> 9\u001b[0;31m \u001b[0mgdf\u001b[0m \u001b[0;34m=\u001b[0m \u001b[0mgpd\u001b[0m\u001b[0;34m.\u001b[0m\u001b[0mread_file\u001b[0m\u001b[0;34m(\u001b[0m\u001b[0mfile_location\u001b[0m\u001b[0;34m,\u001b[0m \u001b[0mdriver\u001b[0m\u001b[0;34m=\u001b[0m\u001b[0;34m'KML'\u001b[0m\u001b[0;34m)\u001b[0m\u001b[0;34m\u001b[0m\u001b[0;34m\u001b[0m\u001b[0m\n\u001b[0m",
            "\u001b[0;32m/usr/local/lib/python3.9/dist-packages/geopandas/io/file.py\u001b[0m in \u001b[0;36m_read_file\u001b[0;34m(filename, bbox, mask, rows, engine, **kwargs)\u001b[0m\n\u001b[1;32m    257\u001b[0m \u001b[0;34m\u001b[0m\u001b[0m\n\u001b[1;32m    258\u001b[0m     \u001b[0;32mif\u001b[0m \u001b[0mengine\u001b[0m \u001b[0;34m==\u001b[0m \u001b[0;34m\"fiona\"\u001b[0m\u001b[0;34m:\u001b[0m\u001b[0;34m\u001b[0m\u001b[0;34m\u001b[0m\u001b[0m\n\u001b[0;32m--> 259\u001b[0;31m         return _read_file_fiona(\n\u001b[0m\u001b[1;32m    260\u001b[0m             \u001b[0mpath_or_bytes\u001b[0m\u001b[0;34m,\u001b[0m \u001b[0mfrom_bytes\u001b[0m\u001b[0;34m,\u001b[0m \u001b[0mbbox\u001b[0m\u001b[0;34m=\u001b[0m\u001b[0mbbox\u001b[0m\u001b[0;34m,\u001b[0m \u001b[0mmask\u001b[0m\u001b[0;34m=\u001b[0m\u001b[0mmask\u001b[0m\u001b[0;34m,\u001b[0m \u001b[0mrows\u001b[0m\u001b[0;34m=\u001b[0m\u001b[0mrows\u001b[0m\u001b[0;34m,\u001b[0m \u001b[0;34m**\u001b[0m\u001b[0mkwargs\u001b[0m\u001b[0;34m\u001b[0m\u001b[0;34m\u001b[0m\u001b[0m\n\u001b[1;32m    261\u001b[0m         )\n",
            "\u001b[0;32m/usr/local/lib/python3.9/dist-packages/geopandas/io/file.py\u001b[0m in \u001b[0;36m_read_file_fiona\u001b[0;34m(path_or_bytes, from_bytes, bbox, mask, rows, where, **kwargs)\u001b[0m\n\u001b[1;32m    301\u001b[0m \u001b[0;34m\u001b[0m\u001b[0m\n\u001b[1;32m    302\u001b[0m     \u001b[0;32mwith\u001b[0m \u001b[0mfiona_env\u001b[0m\u001b[0;34m(\u001b[0m\u001b[0;34m)\u001b[0m\u001b[0;34m:\u001b[0m\u001b[0;34m\u001b[0m\u001b[0;34m\u001b[0m\u001b[0m\n\u001b[0;32m--> 303\u001b[0;31m         \u001b[0;32mwith\u001b[0m \u001b[0mreader\u001b[0m\u001b[0;34m(\u001b[0m\u001b[0mpath_or_bytes\u001b[0m\u001b[0;34m,\u001b[0m \u001b[0;34m**\u001b[0m\u001b[0mkwargs\u001b[0m\u001b[0;34m)\u001b[0m \u001b[0;32mas\u001b[0m \u001b[0mfeatures\u001b[0m\u001b[0;34m:\u001b[0m\u001b[0;34m\u001b[0m\u001b[0;34m\u001b[0m\u001b[0m\n\u001b[0m\u001b[1;32m    304\u001b[0m             \u001b[0mcrs\u001b[0m \u001b[0;34m=\u001b[0m \u001b[0mfeatures\u001b[0m\u001b[0;34m.\u001b[0m\u001b[0mcrs_wkt\u001b[0m\u001b[0;34m\u001b[0m\u001b[0;34m\u001b[0m\u001b[0m\n\u001b[1;32m    305\u001b[0m             \u001b[0;31m# attempt to get EPSG code\u001b[0m\u001b[0;34m\u001b[0m\u001b[0;34m\u001b[0m\u001b[0m\n",
            "\u001b[0;32m/usr/local/lib/python3.9/dist-packages/fiona/env.py\u001b[0m in \u001b[0;36mwrapper\u001b[0;34m(*args, **kwds)\u001b[0m\n\u001b[1;32m    455\u001b[0m \u001b[0;34m\u001b[0m\u001b[0m\n\u001b[1;32m    456\u001b[0m         \u001b[0;32mwith\u001b[0m \u001b[0menv_ctor\u001b[0m\u001b[0;34m(\u001b[0m\u001b[0msession\u001b[0m\u001b[0;34m=\u001b[0m\u001b[0msession\u001b[0m\u001b[0;34m)\u001b[0m\u001b[0;34m:\u001b[0m\u001b[0;34m\u001b[0m\u001b[0;34m\u001b[0m\u001b[0m\n\u001b[0;32m--> 457\u001b[0;31m             \u001b[0;32mreturn\u001b[0m \u001b[0mf\u001b[0m\u001b[0;34m(\u001b[0m\u001b[0;34m*\u001b[0m\u001b[0margs\u001b[0m\u001b[0;34m,\u001b[0m \u001b[0;34m**\u001b[0m\u001b[0mkwds\u001b[0m\u001b[0;34m)\u001b[0m\u001b[0;34m\u001b[0m\u001b[0;34m\u001b[0m\u001b[0m\n\u001b[0m\u001b[1;32m    458\u001b[0m \u001b[0;34m\u001b[0m\u001b[0m\n\u001b[1;32m    459\u001b[0m     \u001b[0;32mreturn\u001b[0m \u001b[0mwrapper\u001b[0m\u001b[0;34m\u001b[0m\u001b[0;34m\u001b[0m\u001b[0m\n",
            "\u001b[0;32m/usr/local/lib/python3.9/dist-packages/fiona/__init__.py\u001b[0m in \u001b[0;36mopen\u001b[0;34m(fp, mode, driver, schema, crs, encoding, layer, vfs, enabled_drivers, crs_wkt, allow_unsupported_drivers, **kwargs)\u001b[0m\n\u001b[1;32m    334\u001b[0m \u001b[0;34m\u001b[0m\u001b[0m\n\u001b[1;32m    335\u001b[0m         \u001b[0;32mif\u001b[0m \u001b[0mmode\u001b[0m \u001b[0;32min\u001b[0m \u001b[0;34m(\u001b[0m\u001b[0;34m\"a\"\u001b[0m\u001b[0;34m,\u001b[0m \u001b[0;34m\"r\"\u001b[0m\u001b[0;34m)\u001b[0m\u001b[0;34m:\u001b[0m\u001b[0;34m\u001b[0m\u001b[0;34m\u001b[0m\u001b[0m\n\u001b[0;32m--> 336\u001b[0;31m             colxn = Collection(\n\u001b[0m\u001b[1;32m    337\u001b[0m                 \u001b[0mpath\u001b[0m\u001b[0;34m,\u001b[0m\u001b[0;34m\u001b[0m\u001b[0;34m\u001b[0m\u001b[0m\n\u001b[1;32m    338\u001b[0m                 \u001b[0mmode\u001b[0m\u001b[0;34m,\u001b[0m\u001b[0;34m\u001b[0m\u001b[0;34m\u001b[0m\u001b[0m\n",
            "\u001b[0;32m/usr/local/lib/python3.9/dist-packages/fiona/collection.py\u001b[0m in \u001b[0;36m__init__\u001b[0;34m(self, path, mode, driver, schema, crs, encoding, layer, vsi, archive, enabled_drivers, crs_wkt, ignore_fields, ignore_geometry, include_fields, wkt_version, allow_unsupported_drivers, **kwargs)\u001b[0m\n\u001b[1;32m    241\u001b[0m \u001b[0;34m\u001b[0m\u001b[0m\n\u001b[1;32m    242\u001b[0m         \u001b[0;32mif\u001b[0m \u001b[0mself\u001b[0m\u001b[0;34m.\u001b[0m\u001b[0msession\u001b[0m \u001b[0;32mis\u001b[0m \u001b[0;32mnot\u001b[0m \u001b[0;32mNone\u001b[0m\u001b[0;34m:\u001b[0m\u001b[0;34m\u001b[0m\u001b[0;34m\u001b[0m\u001b[0m\n\u001b[0;32m--> 243\u001b[0;31m             \u001b[0mself\u001b[0m\u001b[0;34m.\u001b[0m\u001b[0mguard_driver_mode\u001b[0m\u001b[0;34m(\u001b[0m\u001b[0;34m)\u001b[0m\u001b[0;34m\u001b[0m\u001b[0;34m\u001b[0m\u001b[0m\n\u001b[0m\u001b[1;32m    244\u001b[0m \u001b[0;34m\u001b[0m\u001b[0m\n\u001b[1;32m    245\u001b[0m         \u001b[0;32mif\u001b[0m \u001b[0mself\u001b[0m\u001b[0;34m.\u001b[0m\u001b[0mmode\u001b[0m \u001b[0;32min\u001b[0m \u001b[0;34m(\u001b[0m\u001b[0;34m\"a\"\u001b[0m\u001b[0;34m,\u001b[0m \u001b[0;34m\"w\"\u001b[0m\u001b[0;34m)\u001b[0m\u001b[0;34m:\u001b[0m\u001b[0;34m\u001b[0m\u001b[0;34m\u001b[0m\u001b[0m\n",
            "\u001b[0;32m/usr/local/lib/python3.9/dist-packages/fiona/collection.py\u001b[0m in \u001b[0;36mguard_driver_mode\u001b[0;34m(self)\u001b[0m\n\u001b[1;32m    262\u001b[0m             \u001b[0mdriver\u001b[0m \u001b[0;34m=\u001b[0m \u001b[0mself\u001b[0m\u001b[0;34m.\u001b[0m\u001b[0msession\u001b[0m\u001b[0;34m.\u001b[0m\u001b[0mget_driver\u001b[0m\u001b[0;34m(\u001b[0m\u001b[0;34m)\u001b[0m\u001b[0;34m\u001b[0m\u001b[0;34m\u001b[0m\u001b[0m\n\u001b[1;32m    263\u001b[0m             \u001b[0;32mif\u001b[0m \u001b[0mdriver\u001b[0m \u001b[0;32mnot\u001b[0m \u001b[0;32min\u001b[0m \u001b[0msupported_drivers\u001b[0m\u001b[0;34m:\u001b[0m\u001b[0;34m\u001b[0m\u001b[0;34m\u001b[0m\u001b[0m\n\u001b[0;32m--> 264\u001b[0;31m                 \u001b[0;32mraise\u001b[0m \u001b[0mDriverError\u001b[0m\u001b[0;34m(\u001b[0m\u001b[0;34m\"unsupported driver: %r\"\u001b[0m \u001b[0;34m%\u001b[0m \u001b[0mdriver\u001b[0m\u001b[0;34m)\u001b[0m\u001b[0;34m\u001b[0m\u001b[0;34m\u001b[0m\u001b[0m\n\u001b[0m\u001b[1;32m    265\u001b[0m             \u001b[0;32mif\u001b[0m \u001b[0mself\u001b[0m\u001b[0;34m.\u001b[0m\u001b[0mmode\u001b[0m \u001b[0;32mnot\u001b[0m \u001b[0;32min\u001b[0m \u001b[0msupported_drivers\u001b[0m\u001b[0;34m[\u001b[0m\u001b[0mdriver\u001b[0m\u001b[0;34m]\u001b[0m\u001b[0;34m:\u001b[0m\u001b[0;34m\u001b[0m\u001b[0;34m\u001b[0m\u001b[0m\n\u001b[1;32m    266\u001b[0m                 \u001b[0;32mraise\u001b[0m \u001b[0mDriverError\u001b[0m\u001b[0;34m(\u001b[0m\u001b[0;34m\"unsupported mode: %r\"\u001b[0m \u001b[0;34m%\u001b[0m \u001b[0mself\u001b[0m\u001b[0;34m.\u001b[0m\u001b[0mmode\u001b[0m\u001b[0;34m)\u001b[0m\u001b[0;34m\u001b[0m\u001b[0;34m\u001b[0m\u001b[0m\n",
            "\u001b[0;31mDriverError\u001b[0m: unsupported driver: 'KML'"
          ]
        }
      ]
    },
    {
      "cell_type": "markdown",
      "source": [
        "Explorer les données"
      ],
      "metadata": {
        "id": "s9ICt3fk_mfm"
      }
    },
    {
      "cell_type": "code",
      "source": [
        "# Lister les provinces\n",
        "print(gdf['Name'])\n",
        "\n",
        "# Show geometry for a Province in particular\n",
        "gdf[gdf['Name']=='Quebec'].plot()"
      ],
      "metadata": {
        "colab": {
          "base_uri": "https://localhost:8080/",
          "height": 698
        },
        "id": "BFMfleOH_j5l",
        "outputId": "985f45ac-d74c-4a67-99c1-7485e65d4e5d"
      },
      "execution_count": null,
      "outputs": [
        {
          "output_type": "stream",
          "name": "stdout",
          "text": [
            "0                 New Brunswick\n",
            "1     Newfoundland and Labrador\n",
            "2                      Manitoba\n",
            "3                  Saskatchewan\n",
            "4                        Quebec\n",
            "5          Prince Edward Island\n",
            "6                       Alberta\n",
            "7              British Columbia\n",
            "8                   Nova Scotia\n",
            "9                       Ontario\n",
            "10                        Yukon\n",
            "11        Northwest Territories\n",
            "12                      Nunavut\n",
            "Name: Name, dtype: object\n"
          ]
        },
        {
          "output_type": "execute_result",
          "data": {
            "text/plain": [
              "<Axes: >"
            ]
          },
          "metadata": {},
          "execution_count": 119
        },
        {
          "output_type": "display_data",
          "data": {
            "text/plain": [
              "<Figure size 640x480 with 1 Axes>"
            ],
            "image/png": "[encoded data removed]"
          },
          "metadata": {}
        }
      ]
    },
    {
      "cell_type": "markdown",
      "source": [
        "## Données matricielles de densité de population"
      ],
      "metadata": {
        "id": "C_tnunHcMElY"
      }
    },
    {
      "cell_type": "markdown",
      "source": [
        "Répartition de la population\n",
        "*   Type: Carte matricielle (GeoTiff)\n",
        "*   Couverture: mondiale\n",
        "*   Date: 2020\n",
        "*   Source: World Pop\n",
        "*   Description: https://data.humdata.org/dataset/worldpop-population-counts-for-world\n",
        "*   Fichier: https://data.worldpop.org/GIS/Population/Global_2000_2020/2020/0_Mosaicked/ppp_2020_1km_Aggregated.tif\n",
        "\n"
      ],
      "metadata": {
        "id": "uQp8OUpx1Smr"
      }
    },
    {
      "cell_type": "code",
      "source": [
        "# Data file\n",
        "file_name = 'ppp_2020_1km_Aggregated.tif'\n",
        "\n",
        "# Load Data file\n",
        "population_raster = rasterio.open(f'{data_path}/{file_name}')\n",
        "\n",
        "# Show some info about the data\n",
        "print(population_raster.profile)\n",
        "print(population_raster.shape) # quelle est la taille de l'image ?\n",
        "print(population_raster.count) # quel est le nombre de couches ?\n",
        "print(population_raster.bounds) # quelle est l'enmprise de la couche dans son système de coordonnées ?\n",
        "print(population_raster.crs) #... d'ailleurs, quel est son système de projection ?\n",
        "print(population_raster.dtypes) # quel est le type des données des pixels de l'image ?\n",
        "print(population_raster.width, population_raster.height) # Largeur, hauteur\n",
        "\n",
        "# Convert to desired CRS\n",
        "if population_raster.crs != zone_crs:\n",
        "   population_raster.to_crs(zone_crs)"
      ],
      "metadata": {
        "id": "WiD6QPzOQQ_9",
        "colab": {
          "base_uri": "https://localhost:8080/"
        },
        "outputId": "61980d15-94b3-4266-fb11-b7ce2e28fa5c"
      },
      "execution_count": null,
      "outputs": [
        {
          "output_type": "stream",
          "name": "stdout",
          "text": [
            "{'driver': 'GTiff', 'dtype': 'float32', 'nodata': -3.4028234663852886e+38, 'width': 43200, 'height': 18720, 'count': 1, 'crs': CRS.from_epsg(4326), 'transform': Affine(0.0083333333, 0.0, -180.001249265,\n",
            "       0.0, -0.0083333333, 83.99958319871001), 'blockxsize': 256, 'blockysize': 256, 'tiled': True, 'compress': 'lzw', 'interleave': 'band'}\n",
            "(18720, 43200)\n",
            "1\n",
            "BoundingBox(left=-180.001249265, bottom=-72.00041617728999, right=179.99874929500004, top=83.99958319871001)\n",
            "EPSG:4326\n",
            "('float32',)\n",
            "43200 18720\n"
          ]
        }
      ]
    },
    {
      "cell_type": "code",
      "source": [
        "# Create a mask for RasterIO from the study zone\n",
        "zone_mask = [json.loads(zone_gdf.to_json())['features'][0]['geometry']]\n",
        "\n",
        "# clip raster\n",
        "zone_population_raster = rasterio.mask.mask(population_raster, zone_mask, crop=True)"
      ],
      "metadata": {
        "id": "FV8yoz0ZQQ0D"
      },
      "execution_count": null,
      "outputs": []
    },
    {
      "cell_type": "code",
      "source": [
        "# Show the data\n",
        "plt.imshow(zone_population_raster[0][0], cmap='Greys')"
      ],
      "metadata": {
        "colab": {
          "base_uri": "https://localhost:8080/",
          "height": 468
        },
        "id": "kUcVA8P4YE9g",
        "outputId": "6007abaf-d086-4b9e-f7a6-f4a305f3b819"
      },
      "execution_count": null,
      "outputs": [
        {
          "output_type": "execute_result",
          "data": {
            "text/plain": [
              "<matplotlib.image.AxesImage at 0x7f42ef43f820>"
            ]
          },
          "metadata": {},
          "execution_count": 123
        },
        {
          "output_type": "stream",
          "name": "stderr",
          "text": [
            "/usr/local/lib/python3.9/dist-packages/matplotlib/image.py:505: RuntimeWarning: overflow encountered in multiply\n",
            "  A_resampled *= ((a_max - a_min) / frac)\n"
          ]
        },
        {
          "output_type": "display_data",
          "data": {
            "text/plain": [
              "<Figure size 640x480 with 1 Axes>"
            ],
            "image/png": "[encoded data removed]"
          },
          "metadata": {}
        }
      ]
    },
    {
      "cell_type": "code",
      "source": [
        "# Extract numPY array from raster\n",
        "img_np = population_raster.read()\n",
        "\n",
        "# Print some information about the array\n",
        "print(\"Dimension de l'array :\", img_np.shape)\n",
        "print(\"La première bande :\", img_np[0]) # pour accéder à la première bande\n",
        "print(\"Les valeurs min et max des pixel de la bande :\", img_np[0].min(), img_np.max()) # les valeurs minimale et maximale de la bande\n",
        "print(\"La valeur du pixel central de la bande :\", img_np[0, int(img_np[0].shape[0]/2), int(img_np[0].shape[1]/2)]) # pour accéder à tel ou tel pixel de la bande\n",
        "print(\"La moyenne des pixels d'une bande :\", np.mean(img_np[0][img_np[0] != 255])) # pour calculer des statistiques classiques sur la première bande\n",
        "plt.imshow(img_np[0], cmap='Greys') # pour afficher une bande \n",
        "\n",
        "#plt.hist(np.histogram(img_np, bins=10, range=None, density=None, weights=None), bins='auto')"
      ],
      "metadata": {
        "id": "7w4qycKdcYdb"
      },
      "execution_count": null,
      "outputs": []
    },
    {
      "cell_type": "code",
      "source": [
        "x=len(zone_population_raster[0][0][0])\n",
        "y=len(zone_population_raster[0][0])\n",
        "print(f'x={x} y={y}')\n",
        "print(len(zone_population_raster[0][0][0]))\n",
        "print(\"Densite de population au km2 (centre de la carte):\", zone_population_raster[0][0][int(y/2)][int(x/2)])"
      ],
      "metadata": {
        "colab": {
          "base_uri": "https://localhost:8080/"
        },
        "id": "WDbBWxYDemPT",
        "outputId": "e687a7be-2f80-4037-ccfd-f6aaeb069914"
      },
      "execution_count": null,
      "outputs": [
        {
          "output_type": "stream",
          "name": "stdout",
          "text": [
            "x=463 y=326\n",
            "463\n",
            "Densite de population au km2 (centre de la carte): 1475.3801\n"
          ]
        }
      ]
    },
    {
      "cell_type": "code",
      "source": [],
      "metadata": {
        "id": "6-4Hh359dV0k"
      },
      "execution_count": null,
      "outputs": []
    }
  ]
}